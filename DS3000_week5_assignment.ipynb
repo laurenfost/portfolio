{
 "cells": [
  {
   "cell_type": "markdown",
   "id": "9667e1ab",
   "metadata": {},
   "source": [
    "# DS 3000 - Week 5 Assignment \n",
    "\n",
    "**Student Name**: Lauren Foster\n",
    "\n",
    "**Date**: 6/7/24\n",
    "\n",
    "\n",
    "### Submission Instructions\n",
    "Submit this `ipynb` file to canvas.\n",
    "\n",
    "The `ipynb` format stores outputs from the last time you ran the notebook.  (When you open a notebook it has the figures and outputs of the last time you ran it too).  To ensure that your submitted `ipynb` file represents your latest code, make sure to give a fresh run `Kernel > Restart & Run All` just before uploading the `ipynb` file to Canvas.\n",
    "\n",
    "### Academic Integrity\n",
    "\n",
    "**Writing your homework is an individual effort.**  You may discuss general python problems with other students but under no circumstances should you observe another student's code which was written for this assignment, from this year or past years.  Pop into office hours or DM us in MS Teams if you have a specific question about your work or if you would like another pair of eyes or talk through your code.\n",
    "\n",
    "Don't forget to cite websites which helped you solve a problem in a unique way.  You can do this in markdown near the code or with a simple one-line comment. You do not need to cite the official python documentation.\n",
    "\n",
    "**Documentation / style counts for credit**  Please refer to the Pep-8 style, to improve the readability and consistency of your Python code. For more information, read the following article [How to Write Beautiful Python Code With PEP 8](https://realpython.com/python-pep8/) or ask your TA's for tips.\n",
    "\n",
    "**NOTE:<span style='color:red'> Write python expressions to answer ALL questions below and ensure that you use the `print()` function to display the output.</span>** Each question should be answered in a new code cell. For example, your solution for question 1.1 should be in a different code cell from your solution for question 1.2."
   ]
  },
  {
   "cell_type": "markdown",
   "id": "1632418d",
   "metadata": {},
   "source": [
    "## Instructions: \n",
    "\n",
    "Create a Python Notebook with your response to the following questions. Your work must be presented neatly; include your name in the notebook and indicate which question you are answering. Explain all results and all visualizations should have clearly labeled axes and a meaningful title. \n",
    "In this assignment, you will build a machine learning model to predict birth weight using the Babies dataset. Here is a link to the accompanying data dictionaryLinks to an external site.. Ensure that you explain each step and the results from each question. \n",
    "Data Source: babies.csvLinks to an external site.\n",
    "In this assignment, you will build a machine learning model that predicts the birthweight. You will experiment with creating both the k-NN and Random Forest algorithms to determined which produces the best model.\n",
    "Write python code to answer the questions below and ensure that you round the result of all numeric calculations to 2 decimal places. \n"
   ]
  },
  {
   "cell_type": "code",
   "execution_count": 1,
   "id": "e6e9f61a",
   "metadata": {},
   "outputs": [],
   "source": [
    "import csv\n",
    "import pandas as pd\n",
    "import numpy as np\n",
    "import statistics \n",
    "import matplotlib.pyplot as plt\n",
    "import seaborn as sns\n",
    "import scipy.spatial.distance as ssd\n",
    "from sklearn.model_selection import train_test_split\n",
    "from scipy.stats import f_oneway\n",
    "from sklearn.ensemble import RandomForestRegressor\n",
    "from sklearn.metrics import mean_squared_error\n",
    "from sklearn.preprocessing import MinMaxScaler\n",
    "from sklearn.neighbors import KNeighborsRegressor"
   ]
  },
  {
   "cell_type": "markdown",
   "id": "bec5ad56",
   "metadata": {},
   "source": [
    "### Question 1\n",
    "load the data directly from the URL into a DataFrame."
   ]
  },
  {
   "cell_type": "code",
   "execution_count": 2,
   "id": "ce6c3c3c",
   "metadata": {},
   "outputs": [
    {
     "data": {
      "text/html": [
       "<div>\n",
       "<style scoped>\n",
       "    .dataframe tbody tr th:only-of-type {\n",
       "        vertical-align: middle;\n",
       "    }\n",
       "\n",
       "    .dataframe tbody tr th {\n",
       "        vertical-align: top;\n",
       "    }\n",
       "\n",
       "    .dataframe thead th {\n",
       "        text-align: right;\n",
       "    }\n",
       "</style>\n",
       "<table border=\"1\" class=\"dataframe\">\n",
       "  <thead>\n",
       "    <tr style=\"text-align: right;\">\n",
       "      <th></th>\n",
       "      <th>case</th>\n",
       "      <th>bwt</th>\n",
       "      <th>gestation</th>\n",
       "      <th>parity</th>\n",
       "      <th>age</th>\n",
       "      <th>height</th>\n",
       "      <th>weight</th>\n",
       "      <th>smoke</th>\n",
       "    </tr>\n",
       "  </thead>\n",
       "  <tbody>\n",
       "    <tr>\n",
       "      <th>0</th>\n",
       "      <td>1</td>\n",
       "      <td>120</td>\n",
       "      <td>284.0</td>\n",
       "      <td>0</td>\n",
       "      <td>27.0</td>\n",
       "      <td>62.0</td>\n",
       "      <td>100.0</td>\n",
       "      <td>0.0</td>\n",
       "    </tr>\n",
       "    <tr>\n",
       "      <th>1</th>\n",
       "      <td>2</td>\n",
       "      <td>113</td>\n",
       "      <td>282.0</td>\n",
       "      <td>0</td>\n",
       "      <td>33.0</td>\n",
       "      <td>64.0</td>\n",
       "      <td>135.0</td>\n",
       "      <td>0.0</td>\n",
       "    </tr>\n",
       "    <tr>\n",
       "      <th>2</th>\n",
       "      <td>3</td>\n",
       "      <td>128</td>\n",
       "      <td>279.0</td>\n",
       "      <td>0</td>\n",
       "      <td>28.0</td>\n",
       "      <td>64.0</td>\n",
       "      <td>115.0</td>\n",
       "      <td>1.0</td>\n",
       "    </tr>\n",
       "    <tr>\n",
       "      <th>3</th>\n",
       "      <td>4</td>\n",
       "      <td>123</td>\n",
       "      <td>NaN</td>\n",
       "      <td>0</td>\n",
       "      <td>36.0</td>\n",
       "      <td>69.0</td>\n",
       "      <td>190.0</td>\n",
       "      <td>0.0</td>\n",
       "    </tr>\n",
       "    <tr>\n",
       "      <th>4</th>\n",
       "      <td>5</td>\n",
       "      <td>108</td>\n",
       "      <td>282.0</td>\n",
       "      <td>0</td>\n",
       "      <td>23.0</td>\n",
       "      <td>67.0</td>\n",
       "      <td>125.0</td>\n",
       "      <td>1.0</td>\n",
       "    </tr>\n",
       "  </tbody>\n",
       "</table>\n",
       "</div>"
      ],
      "text/plain": [
       "   case  bwt  gestation  parity   age  height  weight  smoke\n",
       "0     1  120      284.0       0  27.0    62.0   100.0    0.0\n",
       "1     2  113      282.0       0  33.0    64.0   135.0    0.0\n",
       "2     3  128      279.0       0  28.0    64.0   115.0    1.0\n",
       "3     4  123        NaN       0  36.0    69.0   190.0    0.0\n",
       "4     5  108      282.0       0  23.0    67.0   125.0    1.0"
      ]
     },
     "execution_count": 2,
     "metadata": {},
     "output_type": "execute_result"
    }
   ],
   "source": [
    "# read data and turn into dataframe\n",
    "baby_df = pd.read_csv(\"https://drive.google.com/uc?id=145n4_o1g5ZMrnV_DZt8tR9rjZLlJvU5K\")\n",
    "baby_df.head()"
   ]
  },
  {
   "cell_type": "markdown",
   "id": "6fbe392f",
   "metadata": {},
   "source": [
    "### Question 2\n",
    "(10 pts) Data Prep & EDA\n",
    "Prepare the data for analysis. Ensure that you address the following:\n",
    "    * Perform EDA using the dataset to demonstrate patterns.\n",
    "    * Handle any missing data and invalid data. Justify your approach.\n",
    "    * Plot a histogram of the birth weight and explain the overall distribution. "
   ]
  },
  {
   "cell_type": "code",
   "execution_count": 3,
   "id": "07e74ad3",
   "metadata": {},
   "outputs": [
    {
     "data": {
      "text/plain": [
       "(1236, 8)"
      ]
     },
     "execution_count": 3,
     "metadata": {},
     "output_type": "execute_result"
    }
   ],
   "source": [
    "# display dimensions, there are 1,236 rows and 8 columns\n",
    "baby_df.shape"
   ]
  },
  {
   "cell_type": "code",
   "execution_count": 4,
   "id": "f83af302",
   "metadata": {},
   "outputs": [
    {
     "name": "stdout",
     "output_type": "stream",
     "text": [
      "<class 'pandas.core.frame.DataFrame'>\n",
      "RangeIndex: 1236 entries, 0 to 1235\n",
      "Data columns (total 8 columns):\n",
      " #   Column     Non-Null Count  Dtype  \n",
      "---  ------     --------------  -----  \n",
      " 0   case       1236 non-null   int64  \n",
      " 1   bwt        1236 non-null   int64  \n",
      " 2   gestation  1223 non-null   float64\n",
      " 3   parity     1236 non-null   int64  \n",
      " 4   age        1234 non-null   float64\n",
      " 5   height     1214 non-null   float64\n",
      " 6   weight     1200 non-null   float64\n",
      " 7   smoke      1226 non-null   float64\n",
      "dtypes: float64(5), int64(3)\n",
      "memory usage: 77.4 KB\n"
     ]
    }
   ],
   "source": [
    "# check data types\n",
    "baby_df.info()"
   ]
  },
  {
   "cell_type": "code",
   "execution_count": 5,
   "id": "a9e1752e",
   "metadata": {},
   "outputs": [],
   "source": [
    "# convert gestation, age, height, weight, and smoke to type int64\n",
    "convert_to_int = [\"gestation\", \"age\", \"height\", \"weight\", \"smoke\"]\n",
    "baby_df[convert_to_int] = baby_df[convert_to_int].astype(pd.Int64Dtype())\n",
    "\n",
    "# convert parity and smoke to type category\n",
    "convert_to_cat = [\"parity\", \"smoke\"]\n",
    "baby_df[convert_to_cat] = baby_df[convert_to_cat].astype(\"category\")"
   ]
  },
  {
   "cell_type": "code",
   "execution_count": 6,
   "id": "93732edc",
   "metadata": {},
   "outputs": [
    {
     "data": {
      "text/plain": [
       "case          0\n",
       "bwt           0\n",
       "gestation    13\n",
       "parity        0\n",
       "age           2\n",
       "height       22\n",
       "weight       36\n",
       "smoke        10\n",
       "dtype: int64"
      ]
     },
     "execution_count": 6,
     "metadata": {},
     "output_type": "execute_result"
    }
   ],
   "source": [
    "# check for missing data in columns\n",
    "baby_df.isnull().sum()"
   ]
  },
  {
   "cell_type": "code",
   "execution_count": 7,
   "id": "416ae8df",
   "metadata": {},
   "outputs": [
    {
     "data": {
      "text/plain": [
       "154     3\n",
       "399     3\n",
       "363     2\n",
       "508     2\n",
       "185     2\n",
       "       ..\n",
       "427     0\n",
       "426     0\n",
       "425     0\n",
       "424     0\n",
       "1235    0\n",
       "Length: 1236, dtype: int64"
      ]
     },
     "execution_count": 7,
     "metadata": {},
     "output_type": "execute_result"
    }
   ],
   "source": [
    "# look at rows with missing data \n",
    "baby_df.isnull().sum(axis = 1).sort_values(ascending = False)"
   ]
  },
  {
   "cell_type": "code",
   "execution_count": 8,
   "id": "83ca9f9f",
   "metadata": {},
   "outputs": [],
   "source": [
    "# dropping rows with 3 missing data points\n",
    "baby_df = baby_df.drop(154)\n",
    "baby_df = baby_df.drop(399)"
   ]
  },
  {
   "cell_type": "code",
   "execution_count": 9,
   "id": "7bcf4d53",
   "metadata": {},
   "outputs": [],
   "source": [
    "# replacing remaining missing values with mean or mode\n",
    "quant_col = [\"gestation\", \"height\", \"weight\", \"age\"]\n",
    "baby_df[quant_col] = baby_df[quant_col].fillna(baby_df[quant_col].mean().astype(pd.Int64Dtype()))\n",
    "baby_df[\"smoke\"] = baby_df[\"smoke\"].fillna(baby_df[\"smoke\"].mode()[0])"
   ]
  },
  {
   "cell_type": "code",
   "execution_count": 10,
   "id": "ea3fec33",
   "metadata": {},
   "outputs": [
    {
     "data": {
      "text/html": [
       "<div>\n",
       "<style scoped>\n",
       "    .dataframe tbody tr th:only-of-type {\n",
       "        vertical-align: middle;\n",
       "    }\n",
       "\n",
       "    .dataframe tbody tr th {\n",
       "        vertical-align: top;\n",
       "    }\n",
       "\n",
       "    .dataframe thead th {\n",
       "        text-align: right;\n",
       "    }\n",
       "</style>\n",
       "<table border=\"1\" class=\"dataframe\">\n",
       "  <thead>\n",
       "    <tr style=\"text-align: right;\">\n",
       "      <th></th>\n",
       "      <th>case</th>\n",
       "      <th>bwt</th>\n",
       "      <th>gestation</th>\n",
       "      <th>parity</th>\n",
       "      <th>age</th>\n",
       "      <th>height</th>\n",
       "      <th>weight</th>\n",
       "      <th>smoke</th>\n",
       "    </tr>\n",
       "  </thead>\n",
       "  <tbody>\n",
       "    <tr>\n",
       "      <th>count</th>\n",
       "      <td>1234.000000</td>\n",
       "      <td>1234.000000</td>\n",
       "      <td>1234.0</td>\n",
       "      <td>1234.0</td>\n",
       "      <td>1234.0</td>\n",
       "      <td>1234.0</td>\n",
       "      <td>1234.0</td>\n",
       "      <td>1234.0</td>\n",
       "    </tr>\n",
       "    <tr>\n",
       "      <th>unique</th>\n",
       "      <td>NaN</td>\n",
       "      <td>NaN</td>\n",
       "      <td>&lt;NA&gt;</td>\n",
       "      <td>2.0</td>\n",
       "      <td>&lt;NA&gt;</td>\n",
       "      <td>&lt;NA&gt;</td>\n",
       "      <td>&lt;NA&gt;</td>\n",
       "      <td>2.0</td>\n",
       "    </tr>\n",
       "    <tr>\n",
       "      <th>top</th>\n",
       "      <td>NaN</td>\n",
       "      <td>NaN</td>\n",
       "      <td>&lt;NA&gt;</td>\n",
       "      <td>0.0</td>\n",
       "      <td>&lt;NA&gt;</td>\n",
       "      <td>&lt;NA&gt;</td>\n",
       "      <td>&lt;NA&gt;</td>\n",
       "      <td>0.0</td>\n",
       "    </tr>\n",
       "    <tr>\n",
       "      <th>freq</th>\n",
       "      <td>NaN</td>\n",
       "      <td>NaN</td>\n",
       "      <td>&lt;NA&gt;</td>\n",
       "      <td>920.0</td>\n",
       "      <td>&lt;NA&gt;</td>\n",
       "      <td>&lt;NA&gt;</td>\n",
       "      <td>&lt;NA&gt;</td>\n",
       "      <td>751.0</td>\n",
       "    </tr>\n",
       "    <tr>\n",
       "      <th>mean</th>\n",
       "      <td>619.052674</td>\n",
       "      <td>119.568071</td>\n",
       "      <td>279.329822</td>\n",
       "      <td>NaN</td>\n",
       "      <td>27.258509</td>\n",
       "      <td>64.047002</td>\n",
       "      <td>128.60859</td>\n",
       "      <td>NaN</td>\n",
       "    </tr>\n",
       "    <tr>\n",
       "      <th>std</th>\n",
       "      <td>356.937539</td>\n",
       "      <td>18.249216</td>\n",
       "      <td>15.954944</td>\n",
       "      <td>NaN</td>\n",
       "      <td>5.780139</td>\n",
       "      <td>2.512785</td>\n",
       "      <td>20.680945</td>\n",
       "      <td>NaN</td>\n",
       "    </tr>\n",
       "    <tr>\n",
       "      <th>min</th>\n",
       "      <td>1.000000</td>\n",
       "      <td>55.000000</td>\n",
       "      <td>148.0</td>\n",
       "      <td>NaN</td>\n",
       "      <td>15.0</td>\n",
       "      <td>53.0</td>\n",
       "      <td>87.0</td>\n",
       "      <td>NaN</td>\n",
       "    </tr>\n",
       "    <tr>\n",
       "      <th>25%</th>\n",
       "      <td>310.250000</td>\n",
       "      <td>108.250000</td>\n",
       "      <td>272.0</td>\n",
       "      <td>NaN</td>\n",
       "      <td>23.0</td>\n",
       "      <td>62.0</td>\n",
       "      <td>115.0</td>\n",
       "      <td>NaN</td>\n",
       "    </tr>\n",
       "    <tr>\n",
       "      <th>50%</th>\n",
       "      <td>619.500000</td>\n",
       "      <td>120.000000</td>\n",
       "      <td>280.0</td>\n",
       "      <td>NaN</td>\n",
       "      <td>26.0</td>\n",
       "      <td>64.0</td>\n",
       "      <td>126.0</td>\n",
       "      <td>NaN</td>\n",
       "    </tr>\n",
       "    <tr>\n",
       "      <th>75%</th>\n",
       "      <td>927.750000</td>\n",
       "      <td>131.000000</td>\n",
       "      <td>288.0</td>\n",
       "      <td>NaN</td>\n",
       "      <td>31.0</td>\n",
       "      <td>66.0</td>\n",
       "      <td>138.0</td>\n",
       "      <td>NaN</td>\n",
       "    </tr>\n",
       "    <tr>\n",
       "      <th>max</th>\n",
       "      <td>1236.000000</td>\n",
       "      <td>176.000000</td>\n",
       "      <td>353.0</td>\n",
       "      <td>NaN</td>\n",
       "      <td>45.0</td>\n",
       "      <td>72.0</td>\n",
       "      <td>250.0</td>\n",
       "      <td>NaN</td>\n",
       "    </tr>\n",
       "  </tbody>\n",
       "</table>\n",
       "</div>"
      ],
      "text/plain": [
       "               case          bwt   gestation  parity        age     height  \\\n",
       "count   1234.000000  1234.000000      1234.0  1234.0     1234.0     1234.0   \n",
       "unique          NaN          NaN        <NA>     2.0       <NA>       <NA>   \n",
       "top             NaN          NaN        <NA>     0.0       <NA>       <NA>   \n",
       "freq            NaN          NaN        <NA>   920.0       <NA>       <NA>   \n",
       "mean     619.052674   119.568071  279.329822     NaN  27.258509  64.047002   \n",
       "std      356.937539    18.249216   15.954944     NaN   5.780139   2.512785   \n",
       "min        1.000000    55.000000       148.0     NaN       15.0       53.0   \n",
       "25%      310.250000   108.250000       272.0     NaN       23.0       62.0   \n",
       "50%      619.500000   120.000000       280.0     NaN       26.0       64.0   \n",
       "75%      927.750000   131.000000       288.0     NaN       31.0       66.0   \n",
       "max     1236.000000   176.000000       353.0     NaN       45.0       72.0   \n",
       "\n",
       "           weight   smoke  \n",
       "count      1234.0  1234.0  \n",
       "unique       <NA>     2.0  \n",
       "top          <NA>     0.0  \n",
       "freq         <NA>   751.0  \n",
       "mean    128.60859     NaN  \n",
       "std     20.680945     NaN  \n",
       "min          87.0     NaN  \n",
       "25%         115.0     NaN  \n",
       "50%         126.0     NaN  \n",
       "75%         138.0     NaN  \n",
       "max         250.0     NaN  "
      ]
     },
     "execution_count": 10,
     "metadata": {},
     "output_type": "execute_result"
    }
   ],
   "source": [
    "baby_df.describe(include = \"all\")"
   ]
  },
  {
   "cell_type": "code",
   "execution_count": 11,
   "id": "06f1cd1f",
   "metadata": {},
   "outputs": [
    {
     "name": "stdout",
     "output_type": "stream",
     "text": [
      "      case  bwt  gestation parity  age  height  weight smoke\n",
      "1172  1173  123        353      0   26      63     115     0\n",
      "     case  bwt  gestation parity  age  height  weight smoke\n",
      "632   633  176        293      1   19      68     180     0\n"
     ]
    }
   ],
   "source": [
    "# print the rows where the gestation is 353 days and the birthweight is 176 ounces\n",
    "print(baby_df[baby_df[\"gestation\"] == 353])\n",
    "print(baby_df[baby_df[\"bwt\"] == 176])"
   ]
  },
  {
   "cell_type": "markdown",
   "id": "7c3f1109",
   "metadata": {},
   "source": [
    "From our investigation, we could tell that the rows 154 and 399 are a widespread issue because they are missing 3 data points so I deleted those rows. Apart from those two rows, the missing data was a isolated issue because they were only missing 2 or less data points. With these remaining rows, I performed imputation on the missing data with the mode or mean of that coulmn. I chose to imputate with the mode if the column was categorical and chose the mean if the column was quantitative. When checking for invalid data, I saw that the maximum gestation was 353 days which is over 11 months. However, when doing research, I found that the longest recorded pregnancy was 375 days, so I will keep this data entry. I also noticed that the largest birthweight was 176 ounces which is over 15 pounds. However, when doing research, I found that the largest recorded birthweight was 22 pounds so I chose to keep this data entry in as well. In addition, when printing the rows containing the outliers, the rest of the data in the rows seemed reasonable. I did not detect any invalid data yet."
   ]
  },
  {
   "cell_type": "code",
   "execution_count": 12,
   "id": "ffa9bb6f",
   "metadata": {},
   "outputs": [
    {
     "data": {
      "image/png": "[encoded data removed]",
      "text/plain": [
       "<Figure size 640x480 with 1 Axes>"
      ]
     },
     "metadata": {},
     "output_type": "display_data"
    }
   ],
   "source": [
    "# histogram of the birth weight\n",
    "plt.hist(baby_df[\"bwt\"], bins = 20, edgecolor = \"black\")  \n",
    "plt.title(\"Birth Weights Between 1960 and 1967\")\n",
    "plt.xlabel(\"Birthweight in Ounces\")\n",
    "plt.ylabel(\"Frequency\")\n",
    "plt.show()"
   ]
  },
  {
   "cell_type": "markdown",
   "id": "2d8d352b",
   "metadata": {},
   "source": [
    "The overall distribution of recorded birthweights of this study is approximately normal because it is symetrical and has a bell shaped curve. We can see that most birthweights fall between 110 and 130 ounces. We can estimate that the median birthweight is around 125 ounces."
   ]
  },
  {
   "cell_type": "markdown",
   "id": "b42b939e",
   "metadata": {},
   "source": [
    "### Question 3\n",
    "(5 pts) Feature Selection\n",
    "Demonstrate which features are useful to build the model. Briefly explain the reason for the features that you selected.  ",
    "Note: You can explore correlations, test hypothesis and/or other techniques. Remember that Data Science relies heavily on experimentation. Therefore, you are encouraged to experiment with your data.\n",
    "    * Tip #1: ensure that you carefully consider each feature and share the pros and cons of your decisions.\n",
    "    * Tip #2: you are predicting the birth weight, therefore it should not be one of your explanatory variables.\n"
   ]
  },
  {
   "cell_type": "code",
   "execution_count": 13,
   "id": "058520aa",
   "metadata": {},
   "outputs": [
    {
     "name": "stdout",
     "output_type": "stream",
     "text": [
      "gestation:\n",
      "0.4059862694756101\n",
      "parity:\n",
      "-0.04603731723138955\n",
      "age:\n",
      "0.033974833632345436\n",
      "height:\n",
      "0.19729173604549782\n",
      "weight:\n",
      "0.15270164956306237\n",
      "smoke:\n",
      "-0.24132927934096413\n"
     ]
    }
   ],
   "source": [
    "# look at the correlation between birthweight and each feature column, looking for values close to 1 or -1\n",
    "features = [\"gestation\", \"parity\", \"age\", \"height\", \"weight\", \"smoke\"]\n",
    "for col in features:\n",
    "    print(col + \":\")\n",
    "    print(baby_df[\"bwt\"].corr(baby_df[col]))"
   ]
  },
  {
   "cell_type": "code",
   "execution_count": 14,
   "id": "729b795d",
   "metadata": {},
   "outputs": [
    {
     "name": "stdout",
     "output_type": "stream",
     "text": [
      "gestation:\n",
      "ANOVA F-statistic: 3.5296770829427127\n",
      "ANOVA p-value: 6.013913856331064e-26\n",
      "parity:\n",
      "ANOVA F-statistic: 0.9802909630882053\n",
      "ANOVA p-value: 0.5391836641142597\n",
      "age:\n",
      "ANOVA F-statistic: 0.8712397034222965\n",
      "ANOVA p-value: 0.816186572620483\n",
      "height:\n",
      "ANOVA F-statistic: 1.5451237180958952\n",
      "ANOVA p-value: 0.000568823503898319\n",
      "weight:\n",
      "ANOVA F-statistic: 1.3491019016712678\n",
      "ANOVA p-value: 0.013537034824858973\n",
      "smoke:\n",
      "ANOVA F-statistic: 1.7095669186645266\n",
      "ANOVA p-value: 2.48161752900513e-05\n"
     ]
    }
   ],
   "source": [
    "# ANOVA test\n",
    "# https://docs.scipy.org/doc/scipy/reference/generated/scipy.stats.f_oneway.html \n",
    "features = [\"gestation\", \"parity\", \"age\", \"height\", \"weight\", \"smoke\"]\n",
    "for feature in features:\n",
    "    feature_groups = []\n",
    "    for category in baby_df[\"bwt\"].unique():\n",
    "        feature_values = baby_df.loc[baby_df[\"bwt\"] == category, feature]\n",
    "        feature_groups.append(feature_values)\n",
    "    anova_result = f_oneway(*feature_groups)\n",
    "    print(feature + \":\")\n",
    "    print(\"ANOVA F-statistic:\", anova_result.statistic)\n",
    "    print(\"ANOVA p-value:\", anova_result.pvalue)"
   ]
  },
  {
   "cell_type": "markdown",
   "id": "19624859",
   "metadata": {},
   "source": [
    "I started with \"gestation\", \"parity\", \"age\", \"height\", \"weight\", \"smoke\" as possible features because the case number has no impact on birthweight. Parity and age both have a correlation between 0.1 and -0.1, indicating they are not useful in predicting birthweight since they have very little correlation. I also ran an ANOVA test and looked for features with a high f statistic and low p value. Parity and age both had a relatively low f statistic and high p value (well above 0.05), indicating I should discard them as useful features for predicting birthweight. Both tests results indicated that age and parity were not useful, leaving me with gestation, height, weight, and smoke as useful features. These features have a higher correlation, higher f statstics, and lower p values."
   ]
  },
  {
   "cell_type": "markdown",
   "id": "ef149416",
   "metadata": {},
   "source": [
    "### Question 4\n",
    "Data Partitioning\n",
    "(2 pts) Partition the prepared data into train/test sets, ensure that your partitions are reproducible. Encode any categorical variables in your training set. Then, use the appropriate approach to encode your test set."
   ]
  },
  {
   "cell_type": "code",
   "execution_count": 15,
   "id": "f25d4438",
   "metadata": {},
   "outputs": [],
   "source": [
    "# train test split with quantitative data\n",
    "X = baby_df[[\"gestation\", \"height\", \"weight\", \"smoke\"]]\n",
    "y = baby_df[\"bwt\"]\n",
    "X_train, X_test, y_train, y_test = train_test_split(X, y, test_size = 0.25, random_state = 42)\n",
    "\n",
    "# encode \"smoke\" (categorical variable) in the training and testing sets using dummy encoding\n",
    "X_train_encoded = pd.get_dummies(X_train, columns=[\"smoke\"], drop_first=True)\n",
    "X_test_encoded = pd.get_dummies(X_test, columns=[\"smoke\"], drop_first=True)"
   ]
  },
  {
   "cell_type": "markdown",
   "id": "80de9186",
   "metadata": {},
   "source": [
    "### Question 5\n",
    "Model Development\n",
    "(5 pts) Using the Random Forest algorithm, build a machine learning model that predicts the birth weight.  ",
    "\n",
    "Think about the following: Are you performing classification or regression? Ensure that you choose the appropriate Random Forest Classifier/Regressor from scikit-learn."
   ]
  },
  {
   "cell_type": "code",
   "execution_count": 16,
   "id": "bd94a299",
   "metadata": {},
   "outputs": [],
   "source": [
    "# predicting birthweight with a Random Forest Regressor\n",
    "rfr = RandomForestRegressor(random_state = 42)\n",
    "rfr.fit(X_train_encoded, y_train)\n",
    "y_pred = rfr.predict(X_test_encoded)"
   ]
  },
  {
   "cell_type": "markdown",
   "id": "2f76b00b",
   "metadata": {},
   "source": [
    "I am using a regressor because we are predicting weight which is a quantitative and continous value (not discrete or categorical)"
   ]
  },
  {
   "cell_type": "markdown",
   "id": "71bbf2fc",
   "metadata": {},
   "source": [
    "### Question 6\n",
    "Model Evaluation\n",
    "(5 pts) Evaluate the predictions from your model and comment on the results. Ensure that you choose the appropriate metric to evaluate the model and round your calculations to two decimal places. Remember that we evaluate models differently depending on the task, i.e. classification or regression."
   ]
  },
  {
   "cell_type": "code",
   "execution_count": 17,
   "id": "bed263aa",
   "metadata": {},
   "outputs": [
    {
     "name": "stdout",
     "output_type": "stream",
     "text": [
      "MSE: 340.41\n",
      "RMSE: 18.45\n"
     ]
    }
   ],
   "source": [
    "# evaluate model with mean squared error and root mean squared error\n",
    "mse = round(mean_squared_error(y_test, y_pred), 2)\n",
    "print(\"MSE:\", mse)\n",
    "print(\"RMSE:\", round(mse**0.5, 2))"
   ]
  },
  {
   "cell_type": "markdown",
   "id": "4e988a4c",
   "metadata": {},
   "source": [
    "### Question 7\n",
    "Model Tuning\n",
    "(5 pts) What are your thoughts on the model's prediction capability? Did it do a good job of predicting the birth weight?\n",
    "Note: it is okay if your first version of the model is not the best. However, there are strategies that we can use to improve it, such as tuning.\n",
    "Tune the model: you can control the number of trees in your forest using the n_estimators parameter. Refer to the sample code from the lecture and also view the documentation**Links to an external site. to learn more about this algorithm and its parameters. Try at least five different values for the n_estimators parameter to determine if the model improved. Show all your steps to create, evaluate and tune each version of the model.\n",
    "Indicate which model performed the best."
   ]
  },
  {
   "cell_type": "markdown",
   "id": "6d83bfa3",
   "metadata": {},
   "source": [
    "A MSE of 340.41 means that the average predicted result is roughly 18.45 (the rmse) ounces off from the actual value which is over 1 pound. For comparision, the standard deviation of the birthweight in the data set is 18.25 ounces which is less than the rmse. Therefore, model's prediction capability is worse than predicting the birthweight by simply using the average birthweight of the dataset. This model has potential for improvement."
   ]
  },
  {
   "cell_type": "code",
   "execution_count": 18,
   "id": "fab22db5",
   "metadata": {},
   "outputs": [],
   "source": [
    "def evaluate_model(n):\n",
    "    '''calculates the mse of the random forest regressor given n_estimators'''\n",
    "    rfr = RandomForestRegressor(n_estimators = n, random_state = 42)\n",
    "    rfr.fit(X_train_encoded, y_train)\n",
    "    y_pred = rfr.predict(X_test_encoded)\n",
    "    mse = round(mean_squared_error(y_test, y_pred), 2)\n",
    "    return mse"
   ]
  },
  {
   "cell_type": "code",
   "execution_count": 19,
   "id": "aba4988d",
   "metadata": {},
   "outputs": [
    {
     "name": "stdout",
     "output_type": "stream",
     "text": [
      "n_estimators: 30, MSE: 346.34\n",
      "n_estimators: 80, MSE: 341.23\n",
      "n_estimators: 100, MSE: 340.41\n",
      "n_estimators: 120, MSE: 341.58\n",
      "n_estimators: 200, MSE: 341.32\n",
      "n_estimators: 300, MSE: 341.37\n",
      "Best model: n_estimators = 100, MSE = 340.41\n"
     ]
    }
   ],
   "source": [
    "# testing n_estimator values\n",
    "n_test_values = [30, 80, 100, 120, 200, 300]\n",
    "mse_results = {}\n",
    "for n in n_test_values:\n",
    "    mse = evaluate_model(n)\n",
    "    mse_results[n] = mse\n",
    "    print(f\"n_estimators: {n}, MSE: {mse}\")\n",
    "\n",
    "# find optimal n value (has lowest MSE)\n",
    "best_n = min(mse_results, key = mse_results.get)\n",
    "best_mse = mse_results[best_n]\n",
    "\n",
    "print(f\"Best model: n_estimators = {best_n}, MSE = {best_mse}\")"
   ]
  },
  {
   "cell_type": "markdown",
   "id": "e56f3fa6",
   "metadata": {},
   "source": [
    "The lowest MSE found with the test values was 340.41 which is matches the origional MSE. Given that there were no other n_estimatos values that led to a lower MSE we can assume that a n_estimators value of 10 is optimal for this random forest regression model. "
   ]
  },
  {
   "cell_type": "markdown",
   "id": "560ebcdf",
   "metadata": {},
   "source": [
    "### Question 8\n",
    "(15 pts) Perform steps 5-7 using the k-nn algorithm. Perform model tuning using at least 5 different values of k. Show all your steps to create, evaluate and tune each version of the model. Indicate which model performed the best."
   ]
  },
  {
   "cell_type": "code",
   "execution_count": 20,
   "id": "efa9b220",
   "metadata": {},
   "outputs": [],
   "source": [
    "# normalize features\n",
    "scaler = MinMaxScaler()\n",
    "X_train_norm = scaler.fit_transform(X_train_encoded)\n",
    "X_test_norm = scaler.transform(X_test_encoded)\n",
    "\n",
    "# creating a KNN Regressor\n",
    "knn_regressor = KNeighborsRegressor(n_neighbors = 5)\n",
    "knn_regressor.fit(X_train_norm, y_train)\n",
    "new_y_pred = knn_regressor.predict(X_test_norm)"
   ]
  },
  {
   "cell_type": "code",
   "execution_count": 21,
   "id": "5d91c7f5",
   "metadata": {},
   "outputs": [
    {
     "name": "stdout",
     "output_type": "stream",
     "text": [
      "MSE: 342.56\n",
      "RMSE: 18.48\n"
     ]
    }
   ],
   "source": [
    "# evaluate knn model with mean squared error and rmse\n",
    "knn_mse = round(mean_squared_error(y_test, new_y_pred), 2)\n",
    "knn_rmse = round(mse**0.5, 2)\n",
    "print(\"MSE:\", knn_mse)\n",
    "print(\"RMSE:\", knn_rmse)"
   ]
  },
  {
   "cell_type": "markdown",
   "id": "433dbe59",
   "metadata": {},
   "source": [
    "This MSE of 342.56 is very similar to the first random forest regressor model. It is slightly higher by 2 but makes an insignificant impact on the RMSE. The RMSE is still sightly greater than the standard deviation (18.25) which indicates that this knn regression model is not better at predicting birthweight than if we were to guess using the average birthweight."
   ]
  },
  {
   "cell_type": "code",
   "execution_count": 22,
   "id": "5242879a",
   "metadata": {},
   "outputs": [],
   "source": [
    "def optimal_neighbors(k):\n",
    "    '''calculates the mse of the knn regressor given n_neighbors'''\n",
    "    knn_regressor = KNeighborsRegressor(n_neighbors = k)\n",
    "    knn_regressor.fit(X_train_norm, y_train)\n",
    "    y_pred = knn_regressor.predict(X_test_norm)\n",
    "    mse = round(mean_squared_error(y_test, y_pred), 2)\n",
    "    return mse"
   ]
  },
  {
   "cell_type": "code",
   "execution_count": 23,
   "id": "28bc800b",
   "metadata": {},
   "outputs": [
    {
     "name": "stdout",
     "output_type": "stream",
     "text": [
      "n_neighbors: 2, MSE: 442.87\n",
      "n_neighbors: 4, MSE: 346.61\n",
      "n_neighbors: 6, MSE: 327.5\n",
      "n_neighbors: 8, MSE: 324.19\n",
      "n_neighbors: 10, MSE: 316.91\n",
      "n_neighbors: 12, MSE: 307.36\n",
      "Best model: n_neighbors = 12, MSE = 307.36\n"
     ]
    }
   ],
   "source": [
    "# testing neighbor values\n",
    "k_test_values = [2, 4, 6, 8, 10, 12]\n",
    "new_mse_results = {}\n",
    "for k in k_test_values:\n",
    "    mse = optimal_neighbors(k)\n",
    "    new_mse_results[k] = mse\n",
    "    print(f\"n_neighbors: {k}, MSE: {mse}\")\n",
    "\n",
    "# find optimal n value (has lowest MSE)\n",
    "best_k = min(new_mse_results, key = new_mse_results.get)\n",
    "best_new_mse = new_mse_results[best_k]\n",
    "\n",
    "print(f\"Best model: n_neighbors = {best_k}, MSE = {best_new_mse}\")"
   ]
  },
  {
   "cell_type": "markdown",
   "id": "8cbf8747",
   "metadata": {},
   "source": [
    "Here we see a much better decrease in the MSE. The MSE when n_neighbors is 12 is 307.36 which is over 35 less than the origional knn regressor. This optimal knn regressor has a RMSE of 17.5 which means the average error in ounces has decreased and is now less than the standard deviation. This model is more effective than predicting birthweight with the average but not by much."
   ]
  },
  {
   "cell_type": "markdown",
   "id": "d3d14abd",
   "metadata": {},
   "source": [
    "### Question 9\n",
    "(3 pts) Compare both the best model from both the Random Forest and k-NN algorithms and explain which model is the most suitable to predict birthweight. Justify your response."
   ]
  },
  {
   "cell_type": "markdown",
   "id": "31adf205",
   "metadata": {},
   "source": [
    "The best random forest regression model had a MSE of 340.41 and a RMSE of 18.45. The best knn regressor had a MSE of 307.36 and a RMSE of 17.5. Since the MSE and RMSE values are lower for the knn regressor, the knn regressor is the most suitable to predict birthweight."
   ]
  },
  {
   "cell_type": "markdown",
   "id": "51e54a64",
   "metadata": {},
   "source": [
    "### Question 10\n",
    "(+5 bonus points) The Random forest has a method that returns the importance of each feature in your model. Review the documentation to learn about feature importance. After which, write the appropriate code that demonstrates which features were the most important when making the predictions. Visualize the feature importance using the best model and explain the results."
   ]
  },
  {
   "cell_type": "code",
   "execution_count": 24,
   "id": "b60e40cb",
   "metadata": {},
   "outputs": [
    {
     "data": {
      "image/png": "[encoded data removed]",
      "text/plain": [
       "<Figure size 640x480 with 1 Axes>"
      ]
     },
     "metadata": {},
     "output_type": "display_data"
    }
   ],
   "source": [
    "# use the best fit random forest regressin model\n",
    "best_rfr = RandomForestRegressor(n_estimators = best_n, random_state = 42)\n",
    "best_rfr.fit(X_train_encoded, y_train)\n",
    "\n",
    "# fetch and visualize feature importances\n",
    "feature_importances = best_rfr.feature_importances_\n",
    "feature_names = X_train_encoded.columns\n",
    "plt.bar(feature_names, feature_importances)\n",
    "plt.xlabel(\"Feature\")\n",
    "plt.ylabel(\"Importance\")\n",
    "plt.title(\"Comparing Importance of Features for Predicting Birthweight with Random Forest Model\")\n",
    "plt.xticks(rotation=45)\n",
    "plt.show()"
   ]
  },
  {
   "cell_type": "markdown",
   "id": "78b0c5fc",
   "metadata": {},
   "source": [
    "As seen in the graph, gestation has the most significant impact on predicting the birthweight with the Random Forest Model, followed by weight of the mother. Whether or not the mother smoked has the least significant impact."
   ]
  },
  {
   "cell_type": "code",
   "execution_count": null,
   "id": "f860b351",
   "metadata": {},
   "outputs": [],
   "source": [
    " "
   ]
  }
 ],
 "metadata": {
  "kernelspec": {
   "display_name": "Python 3 (ipykernel)",
   "language": "python",
   "name": "python3"
  },
  "language_info": {
   "codemirror_mode": {
    "name": "ipython",
    "version": 3
   },
   "file_extension": ".py",
   "mimetype": "text/x-python",
   "name": "python",
   "nbconvert_exporter": "python",
   "pygments_lexer": "ipython3",
   "version": "3.11.5"
  }
 },
 "nbformat": 4,
 "nbformat_minor": 5
}
