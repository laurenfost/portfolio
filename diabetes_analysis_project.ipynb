{
 "cells": [
  {
   "cell_type": "markdown",
   "id": "8353ea45-f59a-4063-842e-f42cc1c5347a",
   "metadata": {},
   "source": [
    "## Question 1 — The DS Problem (0 points)\n",
    "\n",
    "In your own words, formulate the Data Science problem."
   ]
  },
  {
   "cell_type": "markdown",
   "id": "5956b6c9-05df-4e0f-8f11-bc2e049ca01e",
   "metadata": {},
   "source": [
    "**In this project, we want to identify the optimal lifestyle and social determinants of health that reduce the chance of getting diabetes.**\n",
    "\n",
    "We will use the CDC Diabetes Health Indicators dataset to predict diabetic outcomes based on factors such as BMI, physical activity, age, gender, health history, income, and more. We will determine which features are most relevant to a diabetes diagnosis. We will then use machine learning algorithms to assess whether an individual is healthy, pre-diabetic, or diabetic (given these relevant features). These algorithms will take into account both behavioral characteristics as well as demographics in order to generate the most accurate predictions. The findings will help us understand which characteristics are most important for reducing the change of gettin diabetes and could lead to public health initiatives that aim to minimize diabetes risk. In addition, it could help determine which demographics are in most need of resources and preventative measuers to help them reduce their chances of getting diabetes."
   ]
  },
  {
   "cell_type": "markdown",
   "id": "2cb460ab-36ec-47f7-aa24-579eea86bacd",
   "metadata": {},
   "source": [
    "## Question 2 — Prepare the Data (5 pts)\n",
    "\n",
    "- Evaluate the dataset to determine if ALL variables are represented in their expected type. Convert variables to suitable data types for ML modeling. This means that you need to identify categorical data, discrete and continuous variables represent them accordingly.\n",
    "\n",
    "- Analyze the data to determine what preprocessing steps are needed to ensure that the following are handled: 1) missing values, 2) invalid values, 3) outliers. Perform the required data preparation steps and justify the approach that is taken to prepare the data for analysis. "
   ]
  },
  {
   "cell_type": "code",
   "execution_count": 1,
   "id": "6aea07fc",
   "metadata": {
    "tags": []
   },
   "outputs": [],
   "source": [
    "import pandas as pd\n",
    "import matplotlib.pyplot as plt\n",
    "import seaborn as sns\n",
    "import numpy as np"
   ]
  },
  {
   "cell_type": "code",
   "execution_count": 2,
   "id": "86c47eac-d173-40be-ad57-6b5343fab41e",
   "metadata": {
    "tags": []
   },
   "outputs": [],
   "source": [
    "# Load dataset\n",
    "# file_path = '/Users/danielsobel/Desktop/Practicum 2/diabetes_012_health_indicators_BRFSS2015.csv'\n",
    "# df = pd.read_csv(file_path)"
   ]
  },
  {
   "cell_type": "code",
   "execution_count": 3,
   "id": "9169ec7d",
   "metadata": {
    "tags": []
   },
   "outputs": [
    {
     "name": "stdout",
     "output_type": "stream",
     "text": [
      "(253680, 22)\n"
     ]
    },
    {
     "data": {
      "text/html": [
       "<div>\n",
       "<style scoped>\n",
       "    .dataframe tbody tr th:only-of-type {\n",
       "        vertical-align: middle;\n",
       "    }\n",
       "\n",
       "    .dataframe tbody tr th {\n",
       "        vertical-align: top;\n",
       "    }\n",
       "\n",
       "    .dataframe thead th {\n",
       "        text-align: right;\n",
       "    }\n",
       "</style>\n",
       "<table border=\"1\" class=\"dataframe\">\n",
       "  <thead>\n",
       "    <tr style=\"text-align: right;\">\n",
       "      <th></th>\n",
       "      <th>Diabetes_012</th>\n",
       "      <th>HighBP</th>\n",
       "      <th>HighChol</th>\n",
       "      <th>CholCheck</th>\n",
       "      <th>BMI</th>\n",
       "      <th>Smoker</th>\n",
       "      <th>Stroke</th>\n",
       "      <th>HeartDiseaseorAttack</th>\n",
       "      <th>PhysActivity</th>\n",
       "      <th>Fruits</th>\n",
       "      <th>Veggies</th>\n",
       "      <th>HvyAlcoholConsump</th>\n",
       "      <th>AnyHealthcare</th>\n",
       "      <th>NoDocbcCost</th>\n",
       "      <th>GenHlth</th>\n",
       "      <th>MentHlth</th>\n",
       "      <th>PhysHlth</th>\n",
       "      <th>DiffWalk</th>\n",
       "      <th>Sex</th>\n",
       "      <th>Age</th>\n",
       "      <th>Education</th>\n",
       "      <th>Income</th>\n",
       "    </tr>\n",
       "  </thead>\n",
       "  <tbody>\n",
       "    <tr>\n",
       "      <th>0</th>\n",
       "      <td>0.0</td>\n",
       "      <td>1.0</td>\n",
       "      <td>1.0</td>\n",
       "      <td>1.0</td>\n",
       "      <td>40.0</td>\n",
       "      <td>1.0</td>\n",
       "      <td>0.0</td>\n",
       "      <td>0.0</td>\n",
       "      <td>0.0</td>\n",
       "      <td>0.0</td>\n",
       "      <td>1.0</td>\n",
       "      <td>0.0</td>\n",
       "      <td>1.0</td>\n",
       "      <td>0.0</td>\n",
       "      <td>5.0</td>\n",
       "      <td>18.0</td>\n",
       "      <td>15.0</td>\n",
       "      <td>1.0</td>\n",
       "      <td>0.0</td>\n",
       "      <td>9.0</td>\n",
       "      <td>4.0</td>\n",
       "      <td>3.0</td>\n",
       "    </tr>\n",
       "    <tr>\n",
       "      <th>1</th>\n",
       "      <td>0.0</td>\n",
       "      <td>0.0</td>\n",
       "      <td>0.0</td>\n",
       "      <td>0.0</td>\n",
       "      <td>25.0</td>\n",
       "      <td>1.0</td>\n",
       "      <td>0.0</td>\n",
       "      <td>0.0</td>\n",
       "      <td>1.0</td>\n",
       "      <td>0.0</td>\n",
       "      <td>0.0</td>\n",
       "      <td>0.0</td>\n",
       "      <td>0.0</td>\n",
       "      <td>1.0</td>\n",
       "      <td>3.0</td>\n",
       "      <td>0.0</td>\n",
       "      <td>0.0</td>\n",
       "      <td>0.0</td>\n",
       "      <td>0.0</td>\n",
       "      <td>7.0</td>\n",
       "      <td>6.0</td>\n",
       "      <td>1.0</td>\n",
       "    </tr>\n",
       "    <tr>\n",
       "      <th>2</th>\n",
       "      <td>0.0</td>\n",
       "      <td>1.0</td>\n",
       "      <td>1.0</td>\n",
       "      <td>1.0</td>\n",
       "      <td>28.0</td>\n",
       "      <td>0.0</td>\n",
       "      <td>0.0</td>\n",
       "      <td>0.0</td>\n",
       "      <td>0.0</td>\n",
       "      <td>1.0</td>\n",
       "      <td>0.0</td>\n",
       "      <td>0.0</td>\n",
       "      <td>1.0</td>\n",
       "      <td>1.0</td>\n",
       "      <td>5.0</td>\n",
       "      <td>30.0</td>\n",
       "      <td>30.0</td>\n",
       "      <td>1.0</td>\n",
       "      <td>0.0</td>\n",
       "      <td>9.0</td>\n",
       "      <td>4.0</td>\n",
       "      <td>8.0</td>\n",
       "    </tr>\n",
       "    <tr>\n",
       "      <th>3</th>\n",
       "      <td>0.0</td>\n",
       "      <td>1.0</td>\n",
       "      <td>0.0</td>\n",
       "      <td>1.0</td>\n",
       "      <td>27.0</td>\n",
       "      <td>0.0</td>\n",
       "      <td>0.0</td>\n",
       "      <td>0.0</td>\n",
       "      <td>1.0</td>\n",
       "      <td>1.0</td>\n",
       "      <td>1.0</td>\n",
       "      <td>0.0</td>\n",
       "      <td>1.0</td>\n",
       "      <td>0.0</td>\n",
       "      <td>2.0</td>\n",
       "      <td>0.0</td>\n",
       "      <td>0.0</td>\n",
       "      <td>0.0</td>\n",
       "      <td>0.0</td>\n",
       "      <td>11.0</td>\n",
       "      <td>3.0</td>\n",
       "      <td>6.0</td>\n",
       "    </tr>\n",
       "    <tr>\n",
       "      <th>4</th>\n",
       "      <td>0.0</td>\n",
       "      <td>1.0</td>\n",
       "      <td>1.0</td>\n",
       "      <td>1.0</td>\n",
       "      <td>24.0</td>\n",
       "      <td>0.0</td>\n",
       "      <td>0.0</td>\n",
       "      <td>0.0</td>\n",
       "      <td>1.0</td>\n",
       "      <td>1.0</td>\n",
       "      <td>1.0</td>\n",
       "      <td>0.0</td>\n",
       "      <td>1.0</td>\n",
       "      <td>0.0</td>\n",
       "      <td>2.0</td>\n",
       "      <td>3.0</td>\n",
       "      <td>0.0</td>\n",
       "      <td>0.0</td>\n",
       "      <td>0.0</td>\n",
       "      <td>11.0</td>\n",
       "      <td>5.0</td>\n",
       "      <td>4.0</td>\n",
       "    </tr>\n",
       "  </tbody>\n",
       "</table>\n",
       "</div>"
      ],
      "text/plain": [
       "   Diabetes_012  HighBP  HighChol  CholCheck   BMI  Smoker  Stroke  \\\n",
       "0           0.0     1.0       1.0        1.0  40.0     1.0     0.0   \n",
       "1           0.0     0.0       0.0        0.0  25.0     1.0     0.0   \n",
       "2           0.0     1.0       1.0        1.0  28.0     0.0     0.0   \n",
       "3           0.0     1.0       0.0        1.0  27.0     0.0     0.0   \n",
       "4           0.0     1.0       1.0        1.0  24.0     0.0     0.0   \n",
       "\n",
       "   HeartDiseaseorAttack  PhysActivity  Fruits  Veggies  HvyAlcoholConsump  \\\n",
       "0                   0.0           0.0     0.0      1.0                0.0   \n",
       "1                   0.0           1.0     0.0      0.0                0.0   \n",
       "2                   0.0           0.0     1.0      0.0                0.0   \n",
       "3                   0.0           1.0     1.0      1.0                0.0   \n",
       "4                   0.0           1.0     1.0      1.0                0.0   \n",
       "\n",
       "   AnyHealthcare  NoDocbcCost  GenHlth  MentHlth  PhysHlth  DiffWalk  Sex  \\\n",
       "0            1.0          0.0      5.0      18.0      15.0       1.0  0.0   \n",
       "1            0.0          1.0      3.0       0.0       0.0       0.0  0.0   \n",
       "2            1.0          1.0      5.0      30.0      30.0       1.0  0.0   \n",
       "3            1.0          0.0      2.0       0.0       0.0       0.0  0.0   \n",
       "4            1.0          0.0      2.0       3.0       0.0       0.0  0.0   \n",
       "\n",
       "    Age  Education  Income  \n",
       "0   9.0        4.0     3.0  \n",
       "1   7.0        6.0     1.0  \n",
       "2   9.0        4.0     8.0  \n",
       "3  11.0        3.0     6.0  \n",
       "4  11.0        5.0     4.0  "
      ]
     },
     "execution_count": 3,
     "metadata": {},
     "output_type": "execute_result"
    }
   ],
   "source": [
    "# Load data and turn into a dataframe\n",
    "df = pd.read_csv('diabetes_012_health_indicators_BRFSS2015.csv')\n",
    "print(df.shape)\n",
    "pd.set_option('display.max_columns', None)\n",
    "df.head()"
   ]
  },
  {
   "cell_type": "code",
   "execution_count": 4,
   "id": "273a5ac7",
   "metadata": {
    "tags": []
   },
   "outputs": [
    {
     "data": {
      "text/plain": [
       "Diabetes_012            float64\n",
       "HighBP                  float64\n",
       "HighChol                float64\n",
       "CholCheck               float64\n",
       "BMI                     float64\n",
       "Smoker                  float64\n",
       "Stroke                  float64\n",
       "HeartDiseaseorAttack    float64\n",
       "PhysActivity            float64\n",
       "Fruits                  float64\n",
       "Veggies                 float64\n",
       "HvyAlcoholConsump       float64\n",
       "AnyHealthcare           float64\n",
       "NoDocbcCost             float64\n",
       "GenHlth                 float64\n",
       "MentHlth                float64\n",
       "PhysHlth                float64\n",
       "DiffWalk                float64\n",
       "Sex                     float64\n",
       "Age                     float64\n",
       "Education               float64\n",
       "Income                  float64\n",
       "dtype: object"
      ]
     },
     "execution_count": 4,
     "metadata": {},
     "output_type": "execute_result"
    }
   ],
   "source": [
    "# Display initial data types \n",
    "df.dtypes"
   ]
  },
  {
   "cell_type": "code",
   "execution_count": 5,
   "id": "1625c7e0",
   "metadata": {
    "tags": []
   },
   "outputs": [
    {
     "data": {
      "text/plain": [
       "Diabetes_012            category\n",
       "HighBP                  category\n",
       "HighChol                category\n",
       "CholCheck               category\n",
       "BMI                        int64\n",
       "Smoker                  category\n",
       "Stroke                  category\n",
       "HeartDiseaseorAttack    category\n",
       "PhysActivity            category\n",
       "Fruits                  category\n",
       "Veggies                 category\n",
       "HvyAlcoholConsump       category\n",
       "AnyHealthcare           category\n",
       "NoDocbcCost             category\n",
       "GenHlth                    int64\n",
       "MentHlth                   int64\n",
       "PhysHlth                   int64\n",
       "DiffWalk                category\n",
       "Sex                     category\n",
       "Age                        int64\n",
       "Education                  int64\n",
       "Income                     int64\n",
       "dtype: object"
      ]
     },
     "execution_count": 5,
     "metadata": {},
     "output_type": "execute_result"
    }
   ],
   "source": [
    "# Convert all columns to int\n",
    "df = df.astype('int64')\n",
    "\n",
    "# Convert categorical variables \n",
    "categorical_columns = ['Diabetes_012', 'HighBP', 'HighChol', 'CholCheck', 'Smoker', 'Stroke', \n",
    "                       'HeartDiseaseorAttack', 'PhysActivity', 'Fruits', 'Veggies', \n",
    "                       'HvyAlcoholConsump', 'AnyHealthcare', 'NoDocbcCost', 'DiffWalk', 'Sex']\n",
    "df[categorical_columns] = df[categorical_columns].astype('category')\n",
    "\n",
    "# Display data types after conversion\n",
    "df.dtypes"
   ]
  },
  {
   "cell_type": "code",
   "execution_count": 6,
   "id": "56379a46",
   "metadata": {
    "tags": []
   },
   "outputs": [
    {
     "data": {
      "text/plain": [
       "Diabetes_012            0\n",
       "HighBP                  0\n",
       "HighChol                0\n",
       "CholCheck               0\n",
       "BMI                     0\n",
       "Smoker                  0\n",
       "Stroke                  0\n",
       "HeartDiseaseorAttack    0\n",
       "PhysActivity            0\n",
       "Fruits                  0\n",
       "Veggies                 0\n",
       "HvyAlcoholConsump       0\n",
       "AnyHealthcare           0\n",
       "NoDocbcCost             0\n",
       "GenHlth                 0\n",
       "MentHlth                0\n",
       "PhysHlth                0\n",
       "DiffWalk                0\n",
       "Sex                     0\n",
       "Age                     0\n",
       "Education               0\n",
       "Income                  0\n",
       "dtype: int64"
      ]
     },
     "execution_count": 6,
     "metadata": {},
     "output_type": "execute_result"
    }
   ],
   "source": [
    "# Check for missing values\n",
    "df.isnull().sum()"
   ]
  },
  {
   "cell_type": "code",
   "execution_count": 7,
   "id": "0251aaa2",
   "metadata": {
    "tags": []
   },
   "outputs": [
    {
     "data": {
      "text/html": [
       "<div>\n",
       "<style scoped>\n",
       "    .dataframe tbody tr th:only-of-type {\n",
       "        vertical-align: middle;\n",
       "    }\n",
       "\n",
       "    .dataframe tbody tr th {\n",
       "        vertical-align: top;\n",
       "    }\n",
       "\n",
       "    .dataframe thead th {\n",
       "        text-align: right;\n",
       "    }\n",
       "</style>\n",
       "<table border=\"1\" class=\"dataframe\">\n",
       "  <thead>\n",
       "    <tr style=\"text-align: right;\">\n",
       "      <th></th>\n",
       "      <th>Diabetes_012</th>\n",
       "      <th>HighBP</th>\n",
       "      <th>HighChol</th>\n",
       "      <th>CholCheck</th>\n",
       "      <th>BMI</th>\n",
       "      <th>Smoker</th>\n",
       "      <th>Stroke</th>\n",
       "      <th>HeartDiseaseorAttack</th>\n",
       "      <th>PhysActivity</th>\n",
       "      <th>Fruits</th>\n",
       "      <th>Veggies</th>\n",
       "      <th>HvyAlcoholConsump</th>\n",
       "      <th>AnyHealthcare</th>\n",
       "      <th>NoDocbcCost</th>\n",
       "      <th>GenHlth</th>\n",
       "      <th>MentHlth</th>\n",
       "      <th>PhysHlth</th>\n",
       "      <th>DiffWalk</th>\n",
       "      <th>Sex</th>\n",
       "      <th>Age</th>\n",
       "      <th>Education</th>\n",
       "      <th>Income</th>\n",
       "    </tr>\n",
       "  </thead>\n",
       "  <tbody>\n",
       "    <tr>\n",
       "      <th>count</th>\n",
       "      <td>253680.0</td>\n",
       "      <td>253680.0</td>\n",
       "      <td>253680.0</td>\n",
       "      <td>253680.0</td>\n",
       "      <td>253680.000000</td>\n",
       "      <td>253680.0</td>\n",
       "      <td>253680.0</td>\n",
       "      <td>253680.0</td>\n",
       "      <td>253680.0</td>\n",
       "      <td>253680.0</td>\n",
       "      <td>253680.0</td>\n",
       "      <td>253680.0</td>\n",
       "      <td>253680.0</td>\n",
       "      <td>253680.0</td>\n",
       "      <td>253680.000000</td>\n",
       "      <td>253680.000000</td>\n",
       "      <td>253680.000000</td>\n",
       "      <td>253680.0</td>\n",
       "      <td>253680.0</td>\n",
       "      <td>253680.000000</td>\n",
       "      <td>253680.000000</td>\n",
       "      <td>253680.000000</td>\n",
       "    </tr>\n",
       "    <tr>\n",
       "      <th>unique</th>\n",
       "      <td>3.0</td>\n",
       "      <td>2.0</td>\n",
       "      <td>2.0</td>\n",
       "      <td>2.0</td>\n",
       "      <td>NaN</td>\n",
       "      <td>2.0</td>\n",
       "      <td>2.0</td>\n",
       "      <td>2.0</td>\n",
       "      <td>2.0</td>\n",
       "      <td>2.0</td>\n",
       "      <td>2.0</td>\n",
       "      <td>2.0</td>\n",
       "      <td>2.0</td>\n",
       "      <td>2.0</td>\n",
       "      <td>NaN</td>\n",
       "      <td>NaN</td>\n",
       "      <td>NaN</td>\n",
       "      <td>2.0</td>\n",
       "      <td>2.0</td>\n",
       "      <td>NaN</td>\n",
       "      <td>NaN</td>\n",
       "      <td>NaN</td>\n",
       "    </tr>\n",
       "    <tr>\n",
       "      <th>top</th>\n",
       "      <td>0.0</td>\n",
       "      <td>0.0</td>\n",
       "      <td>0.0</td>\n",
       "      <td>1.0</td>\n",
       "      <td>NaN</td>\n",
       "      <td>0.0</td>\n",
       "      <td>0.0</td>\n",
       "      <td>0.0</td>\n",
       "      <td>1.0</td>\n",
       "      <td>1.0</td>\n",
       "      <td>1.0</td>\n",
       "      <td>0.0</td>\n",
       "      <td>1.0</td>\n",
       "      <td>0.0</td>\n",
       "      <td>NaN</td>\n",
       "      <td>NaN</td>\n",
       "      <td>NaN</td>\n",
       "      <td>0.0</td>\n",
       "      <td>0.0</td>\n",
       "      <td>NaN</td>\n",
       "      <td>NaN</td>\n",
       "      <td>NaN</td>\n",
       "    </tr>\n",
       "    <tr>\n",
       "      <th>freq</th>\n",
       "      <td>213703.0</td>\n",
       "      <td>144851.0</td>\n",
       "      <td>146089.0</td>\n",
       "      <td>244210.0</td>\n",
       "      <td>NaN</td>\n",
       "      <td>141257.0</td>\n",
       "      <td>243388.0</td>\n",
       "      <td>229787.0</td>\n",
       "      <td>191920.0</td>\n",
       "      <td>160898.0</td>\n",
       "      <td>205841.0</td>\n",
       "      <td>239424.0</td>\n",
       "      <td>241263.0</td>\n",
       "      <td>232326.0</td>\n",
       "      <td>NaN</td>\n",
       "      <td>NaN</td>\n",
       "      <td>NaN</td>\n",
       "      <td>211005.0</td>\n",
       "      <td>141974.0</td>\n",
       "      <td>NaN</td>\n",
       "      <td>NaN</td>\n",
       "      <td>NaN</td>\n",
       "    </tr>\n",
       "    <tr>\n",
       "      <th>mean</th>\n",
       "      <td>NaN</td>\n",
       "      <td>NaN</td>\n",
       "      <td>NaN</td>\n",
       "      <td>NaN</td>\n",
       "      <td>28.382364</td>\n",
       "      <td>NaN</td>\n",
       "      <td>NaN</td>\n",
       "      <td>NaN</td>\n",
       "      <td>NaN</td>\n",
       "      <td>NaN</td>\n",
       "      <td>NaN</td>\n",
       "      <td>NaN</td>\n",
       "      <td>NaN</td>\n",
       "      <td>NaN</td>\n",
       "      <td>2.511392</td>\n",
       "      <td>3.184772</td>\n",
       "      <td>4.242081</td>\n",
       "      <td>NaN</td>\n",
       "      <td>NaN</td>\n",
       "      <td>8.032119</td>\n",
       "      <td>5.050434</td>\n",
       "      <td>6.053875</td>\n",
       "    </tr>\n",
       "    <tr>\n",
       "      <th>std</th>\n",
       "      <td>NaN</td>\n",
       "      <td>NaN</td>\n",
       "      <td>NaN</td>\n",
       "      <td>NaN</td>\n",
       "      <td>6.608694</td>\n",
       "      <td>NaN</td>\n",
       "      <td>NaN</td>\n",
       "      <td>NaN</td>\n",
       "      <td>NaN</td>\n",
       "      <td>NaN</td>\n",
       "      <td>NaN</td>\n",
       "      <td>NaN</td>\n",
       "      <td>NaN</td>\n",
       "      <td>NaN</td>\n",
       "      <td>1.068477</td>\n",
       "      <td>7.412847</td>\n",
       "      <td>8.717951</td>\n",
       "      <td>NaN</td>\n",
       "      <td>NaN</td>\n",
       "      <td>3.054220</td>\n",
       "      <td>0.985774</td>\n",
       "      <td>2.071148</td>\n",
       "    </tr>\n",
       "    <tr>\n",
       "      <th>min</th>\n",
       "      <td>NaN</td>\n",
       "      <td>NaN</td>\n",
       "      <td>NaN</td>\n",
       "      <td>NaN</td>\n",
       "      <td>12.000000</td>\n",
       "      <td>NaN</td>\n",
       "      <td>NaN</td>\n",
       "      <td>NaN</td>\n",
       "      <td>NaN</td>\n",
       "      <td>NaN</td>\n",
       "      <td>NaN</td>\n",
       "      <td>NaN</td>\n",
       "      <td>NaN</td>\n",
       "      <td>NaN</td>\n",
       "      <td>1.000000</td>\n",
       "      <td>0.000000</td>\n",
       "      <td>0.000000</td>\n",
       "      <td>NaN</td>\n",
       "      <td>NaN</td>\n",
       "      <td>1.000000</td>\n",
       "      <td>1.000000</td>\n",
       "      <td>1.000000</td>\n",
       "    </tr>\n",
       "    <tr>\n",
       "      <th>25%</th>\n",
       "      <td>NaN</td>\n",
       "      <td>NaN</td>\n",
       "      <td>NaN</td>\n",
       "      <td>NaN</td>\n",
       "      <td>24.000000</td>\n",
       "      <td>NaN</td>\n",
       "      <td>NaN</td>\n",
       "      <td>NaN</td>\n",
       "      <td>NaN</td>\n",
       "      <td>NaN</td>\n",
       "      <td>NaN</td>\n",
       "      <td>NaN</td>\n",
       "      <td>NaN</td>\n",
       "      <td>NaN</td>\n",
       "      <td>2.000000</td>\n",
       "      <td>0.000000</td>\n",
       "      <td>0.000000</td>\n",
       "      <td>NaN</td>\n",
       "      <td>NaN</td>\n",
       "      <td>6.000000</td>\n",
       "      <td>4.000000</td>\n",
       "      <td>5.000000</td>\n",
       "    </tr>\n",
       "    <tr>\n",
       "      <th>50%</th>\n",
       "      <td>NaN</td>\n",
       "      <td>NaN</td>\n",
       "      <td>NaN</td>\n",
       "      <td>NaN</td>\n",
       "      <td>27.000000</td>\n",
       "      <td>NaN</td>\n",
       "      <td>NaN</td>\n",
       "      <td>NaN</td>\n",
       "      <td>NaN</td>\n",
       "      <td>NaN</td>\n",
       "      <td>NaN</td>\n",
       "      <td>NaN</td>\n",
       "      <td>NaN</td>\n",
       "      <td>NaN</td>\n",
       "      <td>2.000000</td>\n",
       "      <td>0.000000</td>\n",
       "      <td>0.000000</td>\n",
       "      <td>NaN</td>\n",
       "      <td>NaN</td>\n",
       "      <td>8.000000</td>\n",
       "      <td>5.000000</td>\n",
       "      <td>7.000000</td>\n",
       "    </tr>\n",
       "    <tr>\n",
       "      <th>75%</th>\n",
       "      <td>NaN</td>\n",
       "      <td>NaN</td>\n",
       "      <td>NaN</td>\n",
       "      <td>NaN</td>\n",
       "      <td>31.000000</td>\n",
       "      <td>NaN</td>\n",
       "      <td>NaN</td>\n",
       "      <td>NaN</td>\n",
       "      <td>NaN</td>\n",
       "      <td>NaN</td>\n",
       "      <td>NaN</td>\n",
       "      <td>NaN</td>\n",
       "      <td>NaN</td>\n",
       "      <td>NaN</td>\n",
       "      <td>3.000000</td>\n",
       "      <td>2.000000</td>\n",
       "      <td>3.000000</td>\n",
       "      <td>NaN</td>\n",
       "      <td>NaN</td>\n",
       "      <td>10.000000</td>\n",
       "      <td>6.000000</td>\n",
       "      <td>8.000000</td>\n",
       "    </tr>\n",
       "    <tr>\n",
       "      <th>max</th>\n",
       "      <td>NaN</td>\n",
       "      <td>NaN</td>\n",
       "      <td>NaN</td>\n",
       "      <td>NaN</td>\n",
       "      <td>98.000000</td>\n",
       "      <td>NaN</td>\n",
       "      <td>NaN</td>\n",
       "      <td>NaN</td>\n",
       "      <td>NaN</td>\n",
       "      <td>NaN</td>\n",
       "      <td>NaN</td>\n",
       "      <td>NaN</td>\n",
       "      <td>NaN</td>\n",
       "      <td>NaN</td>\n",
       "      <td>5.000000</td>\n",
       "      <td>30.000000</td>\n",
       "      <td>30.000000</td>\n",
       "      <td>NaN</td>\n",
       "      <td>NaN</td>\n",
       "      <td>13.000000</td>\n",
       "      <td>6.000000</td>\n",
       "      <td>8.000000</td>\n",
       "    </tr>\n",
       "  </tbody>\n",
       "</table>\n",
       "</div>"
      ],
      "text/plain": [
       "        Diabetes_012    HighBP  HighChol  CholCheck            BMI    Smoker  \\\n",
       "count       253680.0  253680.0  253680.0   253680.0  253680.000000  253680.0   \n",
       "unique           3.0       2.0       2.0        2.0            NaN       2.0   \n",
       "top              0.0       0.0       0.0        1.0            NaN       0.0   \n",
       "freq        213703.0  144851.0  146089.0   244210.0            NaN  141257.0   \n",
       "mean             NaN       NaN       NaN        NaN      28.382364       NaN   \n",
       "std              NaN       NaN       NaN        NaN       6.608694       NaN   \n",
       "min              NaN       NaN       NaN        NaN      12.000000       NaN   \n",
       "25%              NaN       NaN       NaN        NaN      24.000000       NaN   \n",
       "50%              NaN       NaN       NaN        NaN      27.000000       NaN   \n",
       "75%              NaN       NaN       NaN        NaN      31.000000       NaN   \n",
       "max              NaN       NaN       NaN        NaN      98.000000       NaN   \n",
       "\n",
       "          Stroke  HeartDiseaseorAttack  PhysActivity    Fruits   Veggies  \\\n",
       "count   253680.0              253680.0      253680.0  253680.0  253680.0   \n",
       "unique       2.0                   2.0           2.0       2.0       2.0   \n",
       "top          0.0                   0.0           1.0       1.0       1.0   \n",
       "freq    243388.0              229787.0      191920.0  160898.0  205841.0   \n",
       "mean         NaN                   NaN           NaN       NaN       NaN   \n",
       "std          NaN                   NaN           NaN       NaN       NaN   \n",
       "min          NaN                   NaN           NaN       NaN       NaN   \n",
       "25%          NaN                   NaN           NaN       NaN       NaN   \n",
       "50%          NaN                   NaN           NaN       NaN       NaN   \n",
       "75%          NaN                   NaN           NaN       NaN       NaN   \n",
       "max          NaN                   NaN           NaN       NaN       NaN   \n",
       "\n",
       "        HvyAlcoholConsump  AnyHealthcare  NoDocbcCost        GenHlth  \\\n",
       "count            253680.0       253680.0     253680.0  253680.000000   \n",
       "unique                2.0            2.0          2.0            NaN   \n",
       "top                   0.0            1.0          0.0            NaN   \n",
       "freq             239424.0       241263.0     232326.0            NaN   \n",
       "mean                  NaN            NaN          NaN       2.511392   \n",
       "std                   NaN            NaN          NaN       1.068477   \n",
       "min                   NaN            NaN          NaN       1.000000   \n",
       "25%                   NaN            NaN          NaN       2.000000   \n",
       "50%                   NaN            NaN          NaN       2.000000   \n",
       "75%                   NaN            NaN          NaN       3.000000   \n",
       "max                   NaN            NaN          NaN       5.000000   \n",
       "\n",
       "             MentHlth       PhysHlth  DiffWalk       Sex            Age  \\\n",
       "count   253680.000000  253680.000000  253680.0  253680.0  253680.000000   \n",
       "unique            NaN            NaN       2.0       2.0            NaN   \n",
       "top               NaN            NaN       0.0       0.0            NaN   \n",
       "freq              NaN            NaN  211005.0  141974.0            NaN   \n",
       "mean         3.184772       4.242081       NaN       NaN       8.032119   \n",
       "std          7.412847       8.717951       NaN       NaN       3.054220   \n",
       "min          0.000000       0.000000       NaN       NaN       1.000000   \n",
       "25%          0.000000       0.000000       NaN       NaN       6.000000   \n",
       "50%          0.000000       0.000000       NaN       NaN       8.000000   \n",
       "75%          2.000000       3.000000       NaN       NaN      10.000000   \n",
       "max         30.000000      30.000000       NaN       NaN      13.000000   \n",
       "\n",
       "            Education         Income  \n",
       "count   253680.000000  253680.000000  \n",
       "unique            NaN            NaN  \n",
       "top               NaN            NaN  \n",
       "freq              NaN            NaN  \n",
       "mean         5.050434       6.053875  \n",
       "std          0.985774       2.071148  \n",
       "min          1.000000       1.000000  \n",
       "25%          4.000000       5.000000  \n",
       "50%          5.000000       7.000000  \n",
       "75%          6.000000       8.000000  \n",
       "max          6.000000       8.000000  "
      ]
     },
     "execution_count": 7,
     "metadata": {},
     "output_type": "execute_result"
    }
   ],
   "source": [
    "# Summary statistics\n",
    "df.describe(include = \"all\")"
   ]
  },
  {
   "cell_type": "code",
   "execution_count": 8,
   "id": "0f1d3584-d52f-4c01-9792-3eb5ee290880",
   "metadata": {
    "tags": []
   },
   "outputs": [
    {
     "name": "stdout",
     "output_type": "stream",
     "text": [
      "BMI before capping outliers:\n",
      " count    253680.000000\n",
      "mean         28.382364\n",
      "std           6.608694\n",
      "min          12.000000\n",
      "25%          24.000000\n",
      "50%          27.000000\n",
      "75%          31.000000\n",
      "max          98.000000\n",
      "Name: BMI, dtype: float64\n",
      "\n",
      "BMI after capping outliers:\n",
      " count    253680.000000\n",
      "mean         28.042565\n",
      "std           5.413445\n",
      "min          12.000000\n",
      "25%          24.000000\n",
      "50%          27.000000\n",
      "75%          31.000000\n",
      "max          40.000000\n",
      "Name: BMI, dtype: float64\n"
     ]
    }
   ],
   "source": [
    "# Addressing outliers in BMI column\n",
    "# https://careerfoundry.com/en/blog/data-analytics/how-to-find-outliers/\n",
    "\n",
    "# BMI before\n",
    "print(\"BMI before capping outliers:\\n\", df['BMI'].describe())\n",
    "\n",
    "# Cap outliers at the 95th percentile \n",
    "percentile_95 = df['BMI'].quantile(0.95)\n",
    "df['BMI'] = np.where(df['BMI'] > percentile_95, percentile_95, df['BMI'])\n",
    "\n",
    "# BMI after capping\n",
    "print(\"\\nBMI after capping outliers:\\n\", df['BMI'].describe())\n"
   ]
  },
  {
   "cell_type": "markdown",
   "id": "69aab22e-5887-4eff-bf67-946af5c31e34",
   "metadata": {},
   "source": [
    "**Explanation:**\n",
    "\n",
    "We first converted all columns to integers so continous variables aligned with the data type stated in the data dictionary and categorical varaibles would not have decimals. We then converted all categorical columns to type category. We chose which columns to convert based on the description of each variable in the data dictionary. We checked for missing values and found none, so we did not need to handle any missing values. We then looked at the summary statistics of the data set to look for inidactors of invalid data. There were no negative values. All values for each column fit within the valid values for that column. We saw that the max BMI was very far off from the mean, so we addressed that outlier by limiting the BMI column to the 95th percentile to lessen the impact of extreme values. With the method we used, any values above the 95th percentile would replaced with the value at the 95th percentile. This decreased the standard deviation and reduced the max BMI by nearly 60. "
   ]
  },
  {
   "cell_type": "markdown",
   "id": "2a6ada14-d2bb-40e6-9d9e-2abccefd5a60",
   "metadata": {},
   "source": [
    "## Question 3 — (35 points)\n",
    "\n",
    "- Perform exploratory data analysis. Ensure that you analyze the relationships between the various features and social determinants of health in the dataset, and the diabetic outcomes. Create visualizations to demonstrate your findings and explain the results."
   ]
  },
  {
   "cell_type": "markdown",
   "id": "a591c5f5",
   "metadata": {},
   "source": [
    "We already peerformed a good chunk of the EDA in the question above (looking at summary statistics, handling missing/invalid data, converting data types), so this is a continuation of our exploration."
   ]
  },
  {
   "cell_type": "code",
   "execution_count": 9,
   "id": "c2242a40",
   "metadata": {
    "tags": []
   },
   "outputs": [
    {
     "data": {
      "text/plain": [
       "(229607, 22)"
      ]
     },
     "execution_count": 9,
     "metadata": {},
     "output_type": "execute_result"
    }
   ],
   "source": [
    "# Remove for repeated rows\n",
    "df = df[df.duplicated() == False]\n",
    "df.shape"
   ]
  },
  {
   "cell_type": "code",
   "execution_count": 10,
   "id": "8cfd3bf0",
   "metadata": {
    "tags": []
   },
   "outputs": [],
   "source": [
    "# separate the data into categorical columns and continuous discrete columns \n",
    "# categorical_columns is already instantiated \n",
    "continuous_discrete_columns = ['BMI', 'GenHlth', 'MentHlth', 'PhysHlth', 'Age', 'Education', 'Income']"
   ]
  },
  {
   "cell_type": "code",
   "execution_count": 11,
   "id": "b4dbabe7",
   "metadata": {
    "tags": []
   },
   "outputs": [
    {
     "name": "stdout",
     "output_type": "stream",
     "text": [
      "\n",
      "Mean BMI by diabetes outcome:\n",
      "Diabetes_012\n",
      "0    27.719088\n",
      "1    30.203284\n",
      "2    31.204578\n",
      "Name: BMI, dtype: float64\n",
      "\n",
      "Mean GenHlth by diabetes outcome:\n",
      "Diabetes_012\n",
      "0    2.463854\n",
      "1    2.976021\n",
      "2    3.296135\n",
      "Name: GenHlth, dtype: float64\n",
      "\n",
      "Mean MentHlth by diabetes outcome:\n",
      "Diabetes_012\n",
      "0    3.300533\n",
      "1    4.531864\n",
      "2    4.495325\n",
      "Name: MentHlth, dtype: float64\n",
      "\n",
      "Mean PhysHlth by diabetes outcome:\n",
      "Diabetes_012\n",
      "0    4.022159\n",
      "1    6.351048\n",
      "2    8.011031\n",
      "Name: PhysHlth, dtype: float64\n",
      "\n",
      "Mean Age by diabetes outcome:\n",
      "Diabetes_012\n",
      "0    7.825378\n",
      "1    9.082091\n",
      "2    9.376062\n",
      "Name: Age, dtype: float64\n",
      "\n",
      "Mean Education by diabetes outcome:\n",
      "Diabetes_012\n",
      "0    5.029390\n",
      "1    4.783971\n",
      "2    4.739525\n",
      "Name: Education, dtype: float64\n",
      "\n",
      "Mean Income by diabetes outcome:\n",
      "Diabetes_012\n",
      "0    6.030527\n",
      "1    5.350832\n",
      "2    5.195257\n",
      "Name: Income, dtype: float64\n",
      "\n",
      "Proportion of Diabetes_012 by diabetes outcome:\n",
      "Diabetes_012\n",
      "0               0.0\n",
      "1               0.0\n",
      "2               0.0\n",
      "Name: proportion, dtype: float64\n",
      "\n",
      "Proportion of HighBP by diabetes outcome:\n",
      "Diabetes_012  HighBP\n",
      "0             0         0.604794\n",
      "              1         0.395206\n",
      "1             1         0.629078\n",
      "              0         0.370922\n",
      "2             1         0.752266\n",
      "              0         0.247734\n",
      "Name: proportion, dtype: float64\n",
      "\n",
      "Proportion of HighChol by diabetes outcome:\n",
      "Diabetes_012  HighChol\n",
      "0             0           0.604510\n",
      "              1           0.395490\n",
      "1             1           0.620868\n",
      "              0           0.379132\n",
      "2             1           0.669460\n",
      "              0           0.330540\n",
      "Name: proportion, dtype: float64\n",
      "\n",
      "Proportion of CholCheck by diabetes outcome:\n",
      "Diabetes_012  CholCheck\n",
      "0             1            0.952632\n",
      "              0            0.047368\n",
      "1             1            0.986606\n",
      "              0            0.013394\n",
      "2             1            0.993130\n",
      "              0            0.006870\n",
      "Name: proportion, dtype: float64\n",
      "\n",
      "Proportion of Smoker by diabetes outcome:\n",
      "Diabetes_012  Smoker\n",
      "0             0         0.544635\n",
      "              1         0.455365\n",
      "1             0         0.507237\n",
      "              1         0.492763\n",
      "2             1         0.519269\n",
      "              0         0.480731\n",
      "Name: proportion, dtype: float64\n",
      "\n",
      "Proportion of Stroke by diabetes outcome:\n",
      "Diabetes_012  Stroke\n",
      "0             0         0.964449\n",
      "              1         0.035551\n",
      "1             0         0.942752\n",
      "              1         0.057248\n",
      "2             0         0.906847\n",
      "              1         0.093153\n",
      "Name: proportion, dtype: float64\n",
      "\n",
      "Proportion of HeartDiseaseorAttack by diabetes outcome:\n",
      "Diabetes_012  HeartDiseaseorAttack\n",
      "0             0                       0.919972\n",
      "              1                       0.080028\n",
      "1             0                       0.856556\n",
      "              1                       0.143444\n",
      "2             0                       0.776067\n",
      "              1                       0.223933\n",
      "Name: proportion, dtype: float64\n",
      "\n",
      "Proportion of PhysActivity by diabetes outcome:\n",
      "Diabetes_012  PhysActivity\n",
      "0             1               0.753913\n",
      "              0               0.246087\n",
      "1             1               0.678332\n",
      "              0               0.321668\n",
      "2             1               0.628556\n",
      "              0               0.371444\n",
      "Name: proportion, dtype: float64\n",
      "\n",
      "Proportion of Fruits by diabetes outcome:\n",
      "Diabetes_012  Fruits\n",
      "0             1         0.618407\n",
      "              0         0.381593\n",
      "1             1         0.602506\n",
      "              0         0.397494\n",
      "2             1         0.584146\n",
      "              0         0.415854\n",
      "Name: proportion, dtype: float64\n",
      "\n",
      "Proportion of Veggies by diabetes outcome:\n",
      "Diabetes_012  Veggies\n",
      "0             1          0.802697\n",
      "              0          0.197303\n",
      "1             1          0.768849\n",
      "              0          0.231151\n",
      "2             1          0.754860\n",
      "              0          0.245140\n",
      "Name: proportion, dtype: float64\n",
      "\n",
      "Proportion of HvyAlcoholConsump by diabetes outcome:\n"
     ]
    },
    {
     "name": "stderr",
     "output_type": "stream",
     "text": [
      "C:\\Users\\laure\\AppData\\Local\\Temp\\ipykernel_18712\\2735863480.py:4: FutureWarning: The default of observed=False is deprecated and will be changed to True in a future version of pandas. Pass observed=False to retain current behavior or observed=True to adopt the future default and silence this warning.\n",
      "  print(df.groupby('Diabetes_012')[col].mean())\n",
      "C:\\Users\\laure\\AppData\\Local\\Temp\\ipykernel_18712\\2735863480.py:9: FutureWarning: The default of observed=False is deprecated and will be changed to True in a future version of pandas. Pass observed=False to retain current behavior or observed=True to adopt the future default and silence this warning.\n",
      "  print(df.groupby('Diabetes_012')[col].value_counts(normalize=True))\n",
      "C:\\Users\\laure\\AppData\\Local\\Temp\\ipykernel_18712\\2735863480.py:9: FutureWarning: The default of observed=False is deprecated and will be changed to True in a future version of pandas. Pass observed=False to retain current behavior or observed=True to adopt the future default and silence this warning.\n",
      "  print(df.groupby('Diabetes_012')[col].value_counts(normalize=True))\n",
      "C:\\Users\\laure\\AppData\\Local\\Temp\\ipykernel_18712\\2735863480.py:9: FutureWarning: The default of observed=False is deprecated and will be changed to True in a future version of pandas. Pass observed=False to retain current behavior or observed=True to adopt the future default and silence this warning.\n",
      "  print(df.groupby('Diabetes_012')[col].value_counts(normalize=True))\n",
      "C:\\Users\\laure\\AppData\\Local\\Temp\\ipykernel_18712\\2735863480.py:9: FutureWarning: The default of observed=False is deprecated and will be changed to True in a future version of pandas. Pass observed=False to retain current behavior or observed=True to adopt the future default and silence this warning.\n",
      "  print(df.groupby('Diabetes_012')[col].value_counts(normalize=True))\n",
      "C:\\Users\\laure\\AppData\\Local\\Temp\\ipykernel_18712\\2735863480.py:9: FutureWarning: The default of observed=False is deprecated and will be changed to True in a future version of pandas. Pass observed=False to retain current behavior or observed=True to adopt the future default and silence this warning.\n",
      "  print(df.groupby('Diabetes_012')[col].value_counts(normalize=True))\n",
      "C:\\Users\\laure\\AppData\\Local\\Temp\\ipykernel_18712\\2735863480.py:9: FutureWarning: The default of observed=False is deprecated and will be changed to True in a future version of pandas. Pass observed=False to retain current behavior or observed=True to adopt the future default and silence this warning.\n",
      "  print(df.groupby('Diabetes_012')[col].value_counts(normalize=True))\n",
      "C:\\Users\\laure\\AppData\\Local\\Temp\\ipykernel_18712\\2735863480.py:9: FutureWarning: The default of observed=False is deprecated and will be changed to True in a future version of pandas. Pass observed=False to retain current behavior or observed=True to adopt the future default and silence this warning.\n",
      "  print(df.groupby('Diabetes_012')[col].value_counts(normalize=True))\n",
      "C:\\Users\\laure\\AppData\\Local\\Temp\\ipykernel_18712\\2735863480.py:9: FutureWarning: The default of observed=False is deprecated and will be changed to True in a future version of pandas. Pass observed=False to retain current behavior or observed=True to adopt the future default and silence this warning.\n",
      "  print(df.groupby('Diabetes_012')[col].value_counts(normalize=True))\n",
      "C:\\Users\\laure\\AppData\\Local\\Temp\\ipykernel_18712\\2735863480.py:9: FutureWarning: The default of observed=False is deprecated and will be changed to True in a future version of pandas. Pass observed=False to retain current behavior or observed=True to adopt the future default and silence this warning.\n",
      "  print(df.groupby('Diabetes_012')[col].value_counts(normalize=True))\n",
      "C:\\Users\\laure\\AppData\\Local\\Temp\\ipykernel_18712\\2735863480.py:9: FutureWarning: The default of observed=False is deprecated and will be changed to True in a future version of pandas. Pass observed=False to retain current behavior or observed=True to adopt the future default and silence this warning.\n",
      "  print(df.groupby('Diabetes_012')[col].value_counts(normalize=True))\n",
      "C:\\Users\\laure\\AppData\\Local\\Temp\\ipykernel_18712\\2735863480.py:9: FutureWarning: The default of observed=False is deprecated and will be changed to True in a future version of pandas. Pass observed=False to retain current behavior or observed=True to adopt the future default and silence this warning.\n",
      "  print(df.groupby('Diabetes_012')[col].value_counts(normalize=True))\n"
     ]
    },
    {
     "name": "stdout",
     "output_type": "stream",
     "text": [
      "Diabetes_012  HvyAlcoholConsump\n",
      "0             0                    0.932015\n",
      "              1                    0.067985\n",
      "1             0                    0.955066\n",
      "              1                    0.044934\n",
      "2             0                    0.976284\n",
      "              1                    0.023716\n",
      "Name: proportion, dtype: float64\n",
      "\n",
      "Proportion of AnyHealthcare by diabetes outcome:\n",
      "Diabetes_012  AnyHealthcare\n",
      "0             1                0.943574\n",
      "              0                0.056426\n",
      "1             1                0.945129\n",
      "              0                0.054871\n",
      "2             1                0.959466\n",
      "              0                0.040534\n",
      "Name: proportion, dtype: float64\n",
      "\n",
      "Proportion of NoDocbcCost by diabetes outcome:\n",
      "Diabetes_012  NoDocbcCost\n",
      "0             0              0.910556\n",
      "              1              0.089444\n",
      "1             0              0.870598\n",
      "              1              0.129402\n",
      "2             0              0.893336\n",
      "              1              0.106664\n",
      "Name: proportion, dtype: float64\n",
      "\n",
      "Proportion of DiffWalk by diabetes outcome:\n",
      "Diabetes_012  DiffWalk\n",
      "0             0           0.851371\n",
      "              1           0.148629\n",
      "1             0           0.722402\n",
      "              1           0.277598\n",
      "2             0           0.626276\n",
      "              1           0.373724\n",
      "Name: proportion, dtype: float64\n",
      "\n",
      "Proportion of Sex by diabetes outcome:\n",
      "Diabetes_012  Sex\n",
      "0             0      0.567763\n",
      "              1      0.432237\n",
      "1             0      0.562541\n",
      "              1      0.437459\n",
      "2             0      0.522661\n",
      "              1      0.477339\n",
      "Name: proportion, dtype: float64\n"
     ]
    },
    {
     "name": "stderr",
     "output_type": "stream",
     "text": [
      "C:\\Users\\laure\\AppData\\Local\\Temp\\ipykernel_18712\\2735863480.py:9: FutureWarning: The default of observed=False is deprecated and will be changed to True in a future version of pandas. Pass observed=False to retain current behavior or observed=True to adopt the future default and silence this warning.\n",
      "  print(df.groupby('Diabetes_012')[col].value_counts(normalize=True))\n",
      "C:\\Users\\laure\\AppData\\Local\\Temp\\ipykernel_18712\\2735863480.py:9: FutureWarning: The default of observed=False is deprecated and will be changed to True in a future version of pandas. Pass observed=False to retain current behavior or observed=True to adopt the future default and silence this warning.\n",
      "  print(df.groupby('Diabetes_012')[col].value_counts(normalize=True))\n",
      "C:\\Users\\laure\\AppData\\Local\\Temp\\ipykernel_18712\\2735863480.py:9: FutureWarning: The default of observed=False is deprecated and will be changed to True in a future version of pandas. Pass observed=False to retain current behavior or observed=True to adopt the future default and silence this warning.\n",
      "  print(df.groupby('Diabetes_012')[col].value_counts(normalize=True))\n",
      "C:\\Users\\laure\\AppData\\Local\\Temp\\ipykernel_18712\\2735863480.py:9: FutureWarning: The default of observed=False is deprecated and will be changed to True in a future version of pandas. Pass observed=False to retain current behavior or observed=True to adopt the future default and silence this warning.\n",
      "  print(df.groupby('Diabetes_012')[col].value_counts(normalize=True))\n"
     ]
    }
   ],
   "source": [
    "# Looking at the mean values of each continuous features by each diabetes outcome\n",
    "for col in continuous_discrete_columns:\n",
    "    print(f\"\\nMean {col} by diabetes outcome:\")\n",
    "    print(df.groupby('Diabetes_012')[col].mean())\n",
    "    \n",
    "# Looking at the proportion analysis for each categorical features by each diabetes outcome\n",
    "for col in categorical_columns:\n",
    "    print(f\"\\nProportion of {col} by diabetes outcome:\")\n",
    "    print(df.groupby('Diabetes_012')[col].value_counts(normalize=True))"
   ]
  },
  {
   "cell_type": "markdown",
   "id": "a8cce9f4",
   "metadata": {},
   "source": [
    "**Trends for feature by diabetes diagnosis (non-diabetic, pre-diabetic, or diabetic)**\n",
    "\n",
    "BMI: mean BMI increases as the diabetic diagnosis progresses (from non-diabetic to prediabetic to diabetic)\n",
    "\n",
    "GENHlth: mean GenHlth score worsens for each diabetic category (1 = best, 5 = worst)\n",
    "\n",
    "MentHlth: mean # of days with poor mental health in the past month is lowest for those without diabetes, and higher for those with prediabetes and diabetes, the score for prediabetes and diabetes is roughly the same\n",
    "\n",
    "PhysHlth: mean # of days with poor physical health in the past month increases by roughly 2 days for each group\n",
    "\n",
    "Age: the age group is lowest for those without diabetes and roughly the same for pre-diabetics and diabetics\n",
    "\n",
    "Education: those without diabetes have the highest average level of education while pre-diabetics and diabetics have slightly \n",
    "lower average levels of education\n",
    "\n",
    "Income: those without diabetes have the highest average income level while pre-diabetics and diabetics have slightly lower average income level\n",
    "\n",
    "HighBP: the proportion of those with high blood pressure is roughly the same for non-diabetics and pre-diabetics, but is highest for those with diabetes\n",
    "\n",
    "HighChol: the proportion of those with high cholesterol is roughly the same for all groups but is slightly higher for for those with diabetes\n",
    "\n",
    "CholCheck: the proportion of those who have checked their cholesterol in the past 5 years slightly increases as as the diabetic diagnosis progresses\n",
    "\n",
    "Smoker: the proportion of those who are smokers slightly increases as as diabetic diagnosis progresses with the biggest jump being from non-diabetic to pre-diabetic\n",
    "\n",
    "Stroke: the proportion of those who have ever had a stroke jumps from 3% to 6% to 9%, increasing as the diabetic diagnosis progresses\n",
    "\n",
    "HeartDiseaseorAttack: the proportion of those who have coronary heart disease or a myocardial infarction jumps from 7% to 14% to 22% according to each diabetes diagnosis\n",
    "\n",
    "PhysActivity: the proportion of those who have completed physical excersise in the past month decreases by 10% then by 4% with each level of diabetes diagnosis\n",
    "\n",
    "Fruits: the proportion of those who consume fruit at some point in the day decreases slightly with each level of diabetes diagnosis\n",
    "\n",
    "Veggies: the proportion of those who consume veggies at some point in the day decreases slightly with each level of diabetes, but more of a decrease than fruit\n",
    "\n",
    "HvyAlcoholConsump: the proportion of heavy drinkers is low in each level of diagnosis and decreases with each increased level of diagnosis \n",
    "\n",
    "AnyHealthcare: the proportion of those with health care coverage is roughly the same for all groups, but slightly highest for those with diabetes\n",
    "\n",
    "NoDocbcCost: the proportion of those who needed a doctor but could not see one due to the cost is highest for pre-diabetics, and lowest for  non-diabetics, all proportions are within a small range of one another\n",
    "\n",
    "DiffWalk: the proportion of those with difficulty walking increases significantly with each level of diabetes diagnosis\n",
    "\n",
    "Sex: the difference in proportion between men and women is roughly the same for each diabetic group"
   ]
  },
  {
   "cell_type": "code",
   "execution_count": 12,
   "id": "b7c37bcd",
   "metadata": {
    "tags": []
   },
   "outputs": [],
   "source": [
    "# calculate the patients in the data set that are in/active and non-diabetic, prediabetic, and diabetic\n",
    "active_diabetic = df[(df[\"Diabetes_012\"] == 2) & (df[\"PhysActivity\"] == 1)].shape[0]\n",
    "inactive_diabetic = df[(df[\"Diabetes_012\"] == 2) & (df[\"PhysActivity\"] == 0)].shape[0]\n",
    "active_prediabetic = df[(df[\"Diabetes_012\"] == 1) & (df[\"PhysActivity\"] == 1)].shape[0]\n",
    "inactive_prediabetic = df[(df[\"Diabetes_012\"] == 1) & (df[\"PhysActivity\"] == 0)].shape[0]\n",
    "active_non_diabetic = df[(df[\"Diabetes_012\"] == 0) & (df[\"PhysActivity\"] == 1)].shape[0]\n",
    "inactive_non_diabetic = df[(df[\"Diabetes_012\"] == 0) & (df[\"PhysActivity\"] == 0)].shape[0]\n",
    "\n",
    "# calculate proportions\n",
    "total_diabetic = active_diabetic + inactive_diabetic\n",
    "total_prediabetic = active_prediabetic + inactive_prediabetic\n",
    "total_non_diabetic = active_non_diabetic + inactive_non_diabetic\n",
    "active_diabetic_prop = active_diabetic / total_diabetic\n",
    "inactive_diabetic_prop = inactive_diabetic / total_diabetic\n",
    "active_prediabetic_prop = active_prediabetic / total_prediabetic\n",
    "inactive_prediabetic_prop = inactive_prediabetic / total_prediabetic\n",
    "active_non_diabetic_prop = active_non_diabetic / total_non_diabetic\n",
    "inactive_non_diabetic_prop = inactive_non_diabetic / total_non_diabetic"
   ]
  },
  {
   "cell_type": "code",
   "execution_count": 13,
   "id": "461eb1e1",
   "metadata": {
    "tags": []
   },
   "outputs": [
    {
     "data": {
      "image/png": "[encoded data removed]",
      "text/plain": [
       "<Figure size 640x480 with 1 Axes>"
      ]
     },
     "metadata": {},
     "output_type": "display_data"
    }
   ],
   "source": [
    "# plot bar chart comparing physical activity between those with and without diabetes\n",
    "plt.bar(\"Non-Diabetic\", active_non_diabetic_prop, color = \"blue\")\n",
    "plt.bar(\"Non-Diabetic\", inactive_non_diabetic_prop, color = \"red\", bottom = active_non_diabetic_prop)\n",
    "plt.bar(\"Prediabetic\", active_prediabetic_prop, color = \"blue\")\n",
    "plt.bar(\"Prediabetic\", inactive_prediabetic_prop, color = \"red\", bottom = active_prediabetic_prop)\n",
    "plt.bar(\"Diabetic\", active_diabetic_prop, color = \"blue\")\n",
    "plt.bar(\"Diabetic\", inactive_diabetic_prop, color = \"red\", bottom = active_diabetic_prop)\n",
    "plt.ylabel(\"Proportion\")\n",
    "plt.title(\"Comparing Proportion of Active Patients in Diabetics, Prediabetics, and Non-Diabetics\")\n",
    "plt.legend([\"Active\", \"Inactive\"])\n",
    "plt.show()"
   ]
  },
  {
   "cell_type": "markdown",
   "id": "de6f8b53",
   "metadata": {},
   "source": [
    "This bar chart compares the proportion of people who have completed physical activity apart from their job within the past 30 days between three groups: non-diabetics, prediabetics, and diabetics. We can see that the proportion of diabetics that are inactive is higher than that of non-diabetics. As the level of diabetic diagnosis becomes more serious, the proportion of inactive patients increases. This suggests a possible correlation between a lack of physical activity and diabetes. "
   ]
  },
  {
   "cell_type": "code",
   "execution_count": 14,
   "id": "2d493e52",
   "metadata": {
    "tags": []
   },
   "outputs": [
    {
     "data": {
      "image/png": "[encoded data removed]",
      "text/plain": [
       "<Figure size 640x480 with 1 Axes>"
      ]
     },
     "metadata": {},
     "output_type": "display_data"
    }
   ],
   "source": [
    "# Group by Income and calculate proportion with diabetes\n",
    "proportion_diabetes_byincome = df[df[\"Diabetes_012\"] == 2].groupby(\"Income\").size() / df.groupby(\"Income\").size()\n",
    "plt.plot(proportion_diabetes_byincome.index, proportion_diabetes_byincome.values)\n",
    "plt.title(\"Proportion of those with Diabetes by Income Level\")\n",
    "plt.xlabel(\"Income Scale (1-8)\")\n",
    "plt.ylabel(\"Proportion with Diabetes\")\n",
    "plt.show()"
   ]
  },
  {
   "cell_type": "markdown",
   "id": "4bca9406",
   "metadata": {},
   "source": [
    "This chart tracks the proportion of people in the dataset with diabetes across multiple income levels. A lower number along the x axis indicates lower income levels, as 1 represents an income less than 10 thousand dollars while 8 represents an income of 75,000 dollars or more. This graph shows that the income level with the highest proportion of diabetes is level 2 while the level with the lowest proportion of diabetes is level 8. There appears to be a negative linear relationship between income and diabetes."
   ]
  },
  {
   "cell_type": "code",
   "execution_count": 15,
   "id": "2bf4f3b0",
   "metadata": {
    "tags": []
   },
   "outputs": [
    {
     "data": {
      "image/png": "[encoded data removed]",
      "text/plain": [
       "<Figure size 640x480 with 1 Axes>"
      ]
     },
     "metadata": {},
     "output_type": "display_data"
    }
   ],
   "source": [
    "# Group by Income and calculate proportion with diabetes\n",
    "proportion_diabetes_age = df[df[\"Diabetes_012\"] == 2].groupby(\"Age\").size() / df.groupby(\"Age\").size()\n",
    "plt.plot(proportion_diabetes_age.index, proportion_diabetes_age.values)\n",
    "plt.title(\"Proportion of Adults with Diabetes by 5yr Age Group (1 = 18-24 9 = 60-64 13 = 80 or older)\")\n",
    "plt.xlabel(\"Age group (1-13)\")\n",
    "plt.ylabel(\"Proportion with Diabetes\")\n",
    "plt.show()"
   ]
  },
  {
   "cell_type": "markdown",
   "id": "754b9fb4",
   "metadata": {},
   "source": [
    "This graph displays an overall positive relationship between age group and proportion with diabetes. The age group with the highest proportion of diabetes is 11 which represents adults aged 70-74. The proportion with diabetes goes down after the peak at group 11 and decreases for groups 13 and 14. The age group with the lowest proportion of diabetes is 1 which represents adults aged 18-24. There is a steady increase in proportion with diabetes from age group 1 to 11."
   ]
  },
  {
   "cell_type": "code",
   "execution_count": 16,
   "id": "062eebb0",
   "metadata": {
    "tags": []
   },
   "outputs": [],
   "source": [
    "# heatmap displaying proportion of patient with diabetes for each combination of Stroke and HeartDiseaseorAttack\n",
    "healthy_history = df[(df[\"Stroke\"] == 0) & (df[\"HeartDiseaseorAttack\"] == 0)]\n",
    "stroke_only = df[(df[\"Stroke\"] == 1) & (df[\"HeartDiseaseorAttack\"] == 0)]\n",
    "heart_attack_only = df[(df[\"Stroke\"] == 0) & (df[\"HeartDiseaseorAttack\"] == 1)]\n",
    "stroke_and_heart = df[(df[\"Stroke\"] == 1) & (df[\"HeartDiseaseorAttack\"] == 1)]\n",
    "\n",
    "# proportions of patients with Diabetes_012 == 2 for each subgroup\n",
    "proportion_healthy = healthy_history[\"Diabetes_012\"].value_counts(normalize=True).loc[2]\n",
    "proportion_stroke_only = stroke_only[\"Diabetes_012\"].value_counts(normalize=True).loc[2]\n",
    "proportion_heart_attack_only = heart_attack_only[\"Diabetes_012\"].value_counts(normalize=True).loc[2]\n",
    "proportion_stroke_and_heart = stroke_and_heart[\"Diabetes_012\"].value_counts(normalize=True).loc[2]\n",
    "\n",
    "# make a dataframe for heatmap\n",
    "# https://stackoverflow.com/questions/69968235/pivot-table-in-proper-order-for-the-heatmap \n",
    "heatmap_data = pd.DataFrame({'HeartDiseaseorAttack': [0, 0, 1, 1], 'Stroke': [0, 1, 0, 1], \n",
    "                             'Proportion Diabetic': \n",
    "                             [proportion_healthy,\n",
    "                              proportion_stroke_only,\n",
    "                              proportion_heart_attack_only,\n",
    "                              proportion_stroke_and_heart]})\n",
    "heatmap_pivot = heatmap_data.pivot(index='Stroke', columns='HeartDiseaseorAttack', values='Proportion Diabetic')"
   ]
  },
  {
   "cell_type": "code",
   "execution_count": 17,
   "id": "2e558a3b",
   "metadata": {
    "tags": []
   },
   "outputs": [
    {
     "data": {
      "image/png": "[encoded data removed]",
      "text/plain": [
       "<Figure size 640x480 with 2 Axes>"
      ]
     },
     "metadata": {},
     "output_type": "display_data"
    }
   ],
   "source": [
    "# plotting the heatmap\n",
    "sns.heatmap(heatmap_pivot, annot=True, cmap=\"Greys\", vmin=0, vmax=1, fmt=\".2f\",\n",
    "            xticklabels=[\"No Heart Disease or Attack\", \"Heart Disease or Attack\"], \n",
    "            yticklabels=[\"No Stroke\", \"Stroke\"])\n",
    "plt.title(\"Proportion of Diabetes by History of Stroke and Heart Disease/Attack\")\n",
    "plt.xlabel(\"\")\n",
    "plt.ylabel(\"\")\n",
    "plt.yticks(rotation=0)  \n",
    "plt.xticks(rotation=45) \n",
    "plt.show()"
   ]
  },
  {
   "cell_type": "markdown",
   "id": "a2fdc521",
   "metadata": {},
   "source": [
    "This heatmap groups patients by their history of stroke or heart problems and displays the proportion of those with diabetes within each group. The combination with the lowest proportion of diabetes is no stroke and no heart problems. The combination with the highest proportion is those who have had both a stroke and a heart attack or heart disease. The proportion of those with diabetes is roughly the same beween groups with only a history of a stroke or only heart problems, but slightly higher for those with only heart problems."
   ]
  },
  {
   "cell_type": "markdown",
   "id": "2b2f6018",
   "metadata": {},
   "source": [
    "### Question 4a\n",
    "Perform significance tests to determine if the patterns that are detected above are statistically significant. Ensure that you discuss at least three patterns and the respective p-values.\n",
    "Select the features that will be used in the ML models (i.e. your selected features should be based on analytical reasoning that demonstrates their utility for ML modeling. Do not arbitrarily select features.\n",
    "Note: if you are using correlations, ensure that this is only performed using continuous variables."
   ]
  },
  {
   "cell_type": "code",
   "execution_count": 18,
   "id": "4691b72c",
   "metadata": {
    "tags": []
   },
   "outputs": [],
   "source": [
    "import statistics \n",
    "from scipy.stats import f_oneway, chi2_contingency, stats\n",
    "from random import sample "
   ]
  },
  {
   "cell_type": "markdown",
   "id": "4222fb4c",
   "metadata": {},
   "source": [
    "pattern 1: the proportion of inactive patients increases as diabetic outcome worsens"
   ]
  },
  {
   "cell_type": "code",
   "execution_count": 19,
   "id": "b83d1f3f",
   "metadata": {
    "tags": []
   },
   "outputs": [],
   "source": [
    "def chi_test_activity(sample_df):\n",
    "    active_diabetic = sample_df[(sample_df[\"Diabetes_012\"] == 2) & (sample_df[\"PhysActivity\"] == 1)].shape[0]\n",
    "    inactive_diabetic = sample_df[(sample_df[\"Diabetes_012\"] == 2) & (sample_df[\"PhysActivity\"] == 0)].shape[0]\n",
    "    active_prediabetic = sample_df[(sample_df[\"Diabetes_012\"] == 1) & (sample_df[\"PhysActivity\"] == 1)].shape[0]\n",
    "    inactive_prediabetic = sample_df[(sample_df[\"Diabetes_012\"] == 1) & (sample_df[\"PhysActivity\"] == 0)].shape[0]\n",
    "    active_non_diabetic = sample_df[(sample_df[\"Diabetes_012\"] == 0) & (sample_df[\"PhysActivity\"] == 1)].shape[0]\n",
    "    inactive_non_diabetic = sample_df[(sample_df[\"Diabetes_012\"] == 0) & (sample_df[\"PhysActivity\"] == 0)].shape[0]\n",
    "    \n",
    "    observed = np.array([[inactive_non_diabetic, active_non_diabetic],\n",
    "                        [inactive_prediabetic, active_prediabetic],\n",
    "                        [inactive_diabetic, active_diabetic]])\n",
    "    \n",
    "    chi2, p, dof, ex = chi2_contingency(observed, correction=False)\n",
    "    return p, chi2"
   ]
  },
  {
   "cell_type": "code",
   "execution_count": 20,
   "id": "0555cf7b",
   "metadata": {
    "tags": []
   },
   "outputs": [
    {
     "name": "stdout",
     "output_type": "stream",
     "text": [
      "P-value: 1.400538719627403e-80\n",
      "Chi2 value: 493.23764071727317\n"
     ]
    }
   ],
   "source": [
    "# Generate 400 samples and perform Chi-Square tests\n",
    "p_values_activity = []\n",
    "chi_values_activity = []\n",
    "for i in range(400):\n",
    "    sample_df = df.sample(frac=.2)\n",
    "    p = chi_test_activity(sample_df)[0]\n",
    "    p_values_activity.append(p)\n",
    "    chi2 = chi_test_activity(sample_df)[1]\n",
    "    chi_values_activity.append(chi2)\n",
    "\n",
    "print(f\"P-value: {np.mean(p_values_activity)}\")\n",
    "print(f\"Chi2 value: {np.mean(chi_values_activity)}\")"
   ]
  },
  {
   "cell_type": "markdown",
   "id": "30857f3d",
   "metadata": {},
   "source": [
    "pattern 2: the proportion of those with diabetes decreases as income level increases"
   ]
  },
  {
   "cell_type": "code",
   "execution_count": 21,
   "id": "68c6114f",
   "metadata": {
    "tags": []
   },
   "outputs": [
    {
     "name": "stdout",
     "output_type": "stream",
     "text": [
      "T-statistic: -69.550538094163\n",
      "P-value: 0.0\n"
     ]
    },
    {
     "name": "stderr",
     "output_type": "stream",
     "text": [
      "C:\\Users\\laure\\AppData\\Local\\Temp\\ipykernel_18712\\3601284977.py:5: DeprecationWarning: Please use `ttest_ind` from the `scipy.stats` namespace, the `scipy.stats.stats` namespace is deprecated.\n",
      "  t_statistic1, p_value1 = stats.ttest_ind(income_diabetes, income_no_diabetes, equal_var=True)\n"
     ]
    }
   ],
   "source": [
    "# compare mean income of those with diabetes and those without diabetes with a t test\n",
    "income_diabetes = df[df['Diabetes_012'] == 2]['Income']\n",
    "income_no_diabetes = df[df['Diabetes_012'] == 0]['Income']\n",
    "\n",
    "t_statistic1, p_value1 = stats.ttest_ind(income_diabetes, income_no_diabetes, equal_var=True)\n",
    "print(f\"T-statistic: {t_statistic1}\")\n",
    "print(f\"P-value: {p_value1}\")"
   ]
  },
  {
   "cell_type": "markdown",
   "id": "dbf6dc19",
   "metadata": {},
   "source": [
    "pattern 3: the proportion of those with diabetes increases as age group increases"
   ]
  },
  {
   "cell_type": "code",
   "execution_count": 22,
   "id": "1ccb24ad",
   "metadata": {
    "tags": []
   },
   "outputs": [
    {
     "name": "stdout",
     "output_type": "stream",
     "text": [
      "T-statistic: 87.54607490226418\n",
      "P-value: 0.0\n"
     ]
    },
    {
     "name": "stderr",
     "output_type": "stream",
     "text": [
      "C:\\Users\\laure\\AppData\\Local\\Temp\\ipykernel_18712\\2571601009.py:5: DeprecationWarning: Please use `ttest_ind` from the `scipy.stats` namespace, the `scipy.stats.stats` namespace is deprecated.\n",
      "  t_statistic2, p_value2 = stats.ttest_ind(age_diabetes, age_no_diabetes, equal_var=True)\n"
     ]
    }
   ],
   "source": [
    "# compare mean age of those with diabetes and those without diabetes with a t test\n",
    "age_diabetes = df[df['Diabetes_012'] == 2]['Age']\n",
    "age_no_diabetes = df[df['Diabetes_012'] == 0]['Age']\n",
    "\n",
    "t_statistic2, p_value2 = stats.ttest_ind(age_diabetes, age_no_diabetes, equal_var=True)\n",
    "print(f\"T-statistic: {t_statistic2}\")\n",
    "print(f\"P-value: {p_value2}\")"
   ]
  },
  {
   "cell_type": "markdown",
   "id": "e98aa8a5",
   "metadata": {},
   "source": [
    "pattern 4: the proportion of those with a history of stroke increases as diabetic outcome worsens"
   ]
  },
  {
   "cell_type": "code",
   "execution_count": 23,
   "id": "ed854e47",
   "metadata": {
    "tags": []
   },
   "outputs": [],
   "source": [
    "def chi_test_stroke(sample_df):\n",
    "    stroke_diabetic = sample_df[(sample_df[\"Diabetes_012\"] == 2) & (sample_df[\"Stroke\"] == 1)].shape[0]\n",
    "    no_stroke_diabetic = sample_df[(sample_df[\"Diabetes_012\"] == 2) & (sample_df[\"Stroke\"] == 0)].shape[0]\n",
    "    stroke_prediabetic = sample_df[(sample_df[\"Diabetes_012\"] == 1) & (sample_df[\"Stroke\"] == 1)].shape[0]\n",
    "    no_stroke_prediabetic = sample_df[(sample_df[\"Diabetes_012\"] == 1) & (sample_df[\"Stroke\"] == 0)].shape[0]\n",
    "    stroke_non_diabetic = sample_df[(sample_df[\"Diabetes_012\"] == 0) & (sample_df[\"Stroke\"] == 1)].shape[0]\n",
    "    no_stroke_non_diabetic = sample_df[(sample_df[\"Diabetes_012\"] == 0) & (sample_df[\"Stroke\"] == 0)].shape[0]\n",
    "    \n",
    "    observed = np.array([[no_stroke_non_diabetic, stroke_non_diabetic],\n",
    "                        [no_stroke_prediabetic, stroke_prediabetic],\n",
    "                        [no_stroke_diabetic, stroke_diabetic]])\n",
    "    \n",
    "    chi2, p, dof, ex = chi2_contingency(observed, correction=False)\n",
    "    return p, chi2"
   ]
  },
  {
   "cell_type": "code",
   "execution_count": 24,
   "id": "34c416f6",
   "metadata": {
    "tags": []
   },
   "outputs": [
    {
     "name": "stdout",
     "output_type": "stream",
     "text": [
      "P-value: 2.750360891277169e-76\n",
      "Chi2 value: 464.0142622351009\n"
     ]
    }
   ],
   "source": [
    "# Generate 400 samples and perform Chi-Square tests\n",
    "p_values_stroke = []\n",
    "chi_values_stroke = []\n",
    "for i in range(400):\n",
    "    sample_df = df.sample(frac=.2)\n",
    "    p = chi_test_stroke(sample_df)[0]\n",
    "    p_values_stroke.append(p)\n",
    "    chi2 = chi_test_stroke(sample_df)[1]\n",
    "    chi_values_stroke.append(chi2)\n",
    "\n",
    "print(f\"P-value: {np.mean(p_values_stroke)}\")\n",
    "print(f\"Chi2 value: {np.mean(chi_values_stroke)}\")"
   ]
  },
  {
   "cell_type": "markdown",
   "id": "a00314e4",
   "metadata": {},
   "source": [
    "All of the chi squared tests resulted in p-values less than 0.05 and had high chi squared values. This indicates that the difference in proportions is large and there is less than a 5% chance that the proportions are actually meant to be the same. This means all the chi squared tests showed significance. All of the t value tests had a p-value less 0.05 and had high t values. This indicates that the mean scores were very different and there is less than a 5% chance that the means are actually meant to be the same. This means both t tests showed statistical significance."
   ]
  },
  {
   "cell_type": "code",
   "execution_count": 25,
   "id": "eaf36ea8",
   "metadata": {
    "tags": []
   },
   "outputs": [
    {
     "name": "stdout",
     "output_type": "stream",
     "text": [
      "BMI:\n",
      "0.23\n",
      "GenHlth:\n",
      "0.28\n",
      "MentHlth:\n",
      "0.06\n",
      "PhysHlth:\n",
      "0.16\n",
      "Age:\n",
      "0.18\n",
      "Education:\n",
      "-0.11\n",
      "Income:\n",
      "-0.15\n"
     ]
    }
   ],
   "source": [
    "# look at the correlation between diabetes and each continuous feature, looking for values close to 1 or -1\n",
    "for col in continuous_discrete_columns:\n",
    "    print(col + \":\")\n",
    "    print(round(df[\"Diabetes_012\"].corr(df[col]), 2))"
   ]
  },
  {
   "cell_type": "code",
   "execution_count": 26,
   "id": "47f2fd5c",
   "metadata": {
    "tags": []
   },
   "outputs": [
    {
     "name": "stdout",
     "output_type": "stream",
     "text": [
      "BMI:\n",
      "ANOVA F-statistic: 6568.31\n",
      "ANOVA p-value: 0.0\n",
      "GenHlth:\n",
      "ANOVA F-statistic: 10162.56\n",
      "ANOVA p-value: 0.0\n",
      "MentHlth:\n",
      "ANOVA F-statistic: 397.97\n",
      "ANOVA p-value: 2.9124693061376782e-173\n",
      "PhysHlth:\n",
      "ANOVA F-statistic: 3035.85\n",
      "ANOVA p-value: 0.0\n",
      "Age:\n",
      "ANOVA F-statistic: 4104.61\n",
      "ANOVA p-value: 0.0\n",
      "Education:\n",
      "ANOVA F-statistic: 1370.02\n",
      "ANOVA p-value: 0.0\n",
      "Income:\n",
      "ANOVA F-statistic: 2571.55\n",
      "ANOVA p-value: 0.0\n"
     ]
    }
   ],
   "source": [
    "# ANOVA test for continuous features\n",
    "# https://docs.scipy.org/doc/scipy/reference/generated/scipy.stats.f_oneway.html \n",
    "for feature in continuous_discrete_columns:\n",
    "    feature_groups = []\n",
    "    for category in df[\"Diabetes_012\"].unique():\n",
    "        feature_values = df.loc[df[\"Diabetes_012\"] == category, feature]\n",
    "        feature_groups.append(feature_values)\n",
    "    anova_result = f_oneway(*feature_groups)\n",
    "    print(feature + \":\")\n",
    "    print(\"ANOVA F-statistic:\", round(anova_result.statistic, 2))\n",
    "    print(\"ANOVA p-value:\", anova_result.pvalue) "
   ]
  },
  {
   "cell_type": "code",
   "execution_count": 27,
   "id": "02049cae",
   "metadata": {
    "tags": []
   },
   "outputs": [
    {
     "name": "stdout",
     "output_type": "stream",
     "text": [
      "Diabetes_012:\n",
      "91842.0\n",
      "0.0\n",
      "HighBP:\n",
      "3162.485358527067\n",
      "0.0\n",
      "HighChol:\n",
      "1927.4917662502144\n",
      "0.0\n",
      "CholCheck:\n",
      "269.0676165477352\n",
      "1.226610376519275e-52\n",
      "Smoker:\n",
      "102.08216329795198\n",
      "1.2151594404497415e-15\n",
      "Stroke:\n",
      "467.1334930705183\n",
      "9.435170044304276e-77\n",
      "HeartDiseaseorAttack:\n",
      "1342.5069549323086\n",
      "3.9520563297295705e-247\n",
      "PhysActivity:\n",
      "496.02642586224147\n",
      "1.1174356357813296e-86\n",
      "Fruits:\n",
      "31.93385119531575\n",
      "0.00011741095810827467\n",
      "Veggies:\n",
      "88.67748190388848\n",
      "3.0313367490245246e-13\n",
      "HvyAlcoholConsump:\n",
      "207.9466179934117\n",
      "2.1347476807337852e-35\n",
      "AnyHealthcare:\n",
      "30.702178075342136\n",
      "6.586744926986957e-05\n",
      "NoDocbcCost:\n",
      "38.067379432790695\n",
      "1.0492446231224064e-05\n",
      "DiffWalk:\n",
      "2042.0224617556178\n",
      "0.0\n",
      "Sex:\n",
      "50.724294829464434\n",
      "1.1217692309914821e-07\n"
     ]
    }
   ],
   "source": [
    "# Chi-Square Test of Independence for categorical columns, looking for features where p<0.05 \n",
    "mean_chi = {}\n",
    "for feature in categorical_columns:\n",
    "    chi_values = []\n",
    "    p_values = []\n",
    "    for i in range(400):\n",
    "        samp = df.sample(frac=.2)\n",
    "        contingency_table = pd.crosstab(samp[feature], samp[\"Diabetes_012\"])\n",
    "        chi2, p, dof, expected = chi2_contingency(contingency_table)\n",
    "        chi_values.append(chi2)\n",
    "        p_values.append(p)\n",
    "    mean_chi[feature] = np.mean(chi_values)\n",
    "    print(feature + \":\")\n",
    "    print(np.mean(chi_values))\n",
    "    print(np.mean(p_values))"
   ]
  },
  {
   "cell_type": "code",
   "execution_count": 28,
   "id": "328a4f91",
   "metadata": {},
   "outputs": [
    {
     "data": {
      "text/plain": [
       "[('Diabetes_012', 91842.0),\n",
       " ('HighBP', 3162.485358527067),\n",
       " ('DiffWalk', 2042.0224617556178),\n",
       " ('HighChol', 1927.4917662502144),\n",
       " ('HeartDiseaseorAttack', 1342.5069549323086),\n",
       " ('PhysActivity', 496.02642586224147),\n",
       " ('Stroke', 467.1334930705183),\n",
       " ('CholCheck', 269.0676165477352),\n",
       " ('HvyAlcoholConsump', 207.9466179934117),\n",
       " ('Smoker', 102.08216329795198),\n",
       " ('Veggies', 88.67748190388848),\n",
       " ('Sex', 50.724294829464434),\n",
       " ('NoDocbcCost', 38.067379432790695),\n",
       " ('Fruits', 31.93385119531575),\n",
       " ('AnyHealthcare', 30.702178075342136)]"
      ]
     },
     "execution_count": 28,
     "metadata": {},
     "output_type": "execute_result"
    }
   ],
   "source": [
    "# Sort the dictionary by value in descending order\n",
    "sorted_mean_chi = sorted(mean_chi.items(), key=lambda item: item[1], reverse=True)\n",
    "sorted_mean_chi"
   ]
  },
  {
   "cell_type": "code",
   "execution_count": 29,
   "id": "229b6147",
   "metadata": {
    "tags": []
   },
   "outputs": [],
   "source": [
    "relevant_features = [\"BMI\", \"GenHlth\", \"HighBP\", \"HighChol\", \"HeartDiseaseorAttack\", \"PhysHlth\", \"Age\", \"Income\"]"
   ]
  },
  {
   "cell_type": "markdown",
   "id": "de01fbcc",
   "metadata": {},
   "source": [
    "BMI, Age, and GenHlth, PhysHlth, and Income are the most relevant continuous features for predicting diabetes based on their high ANOVA F-statistics and correlation coefficients.  \n",
    "\n",
    "HighBP, HighChol, and HeartDiseaseorAttack are the most relevant categorical features for predicting diabetes due to their high "
   ]
  },
  {
   "cell_type": "markdown",
   "id": "544f0fc2",
   "metadata": {},
   "source": [
    "### Question 4b\n",
    "This is an optional challenge question. Its purpose is to identify new features that can be included in the ML modeling below.\n",
    "\n",
    "Perform ONE of the following\n",
    "(1) Feature engineering: Machine learning models can benefit greatly from feature engineering. Create a new feature that can be included in the model and perform significance testing to determine if it's statistically significant. Explain the results. If you decide that you will not include the new feature in the ML modeling, explain the reasons.\n",
    "OR\n",
    "(2) Statistical tests: Research a new type of statistical test that was not introduced in the lecture and write python code to demonstrate at least two significance tests between features in the dataset. Explain the results. If you decide that you will not include the new feature in the ML modeling, explain the reasons. Note: you are welcome to use libraries to perform the tests."
   ]
  },
  {
   "cell_type": "code",
   "execution_count": 30,
   "id": "ad049b60",
   "metadata": {
    "tags": []
   },
   "outputs": [],
   "source": [
    "# creating a new feature (HealthyLifestyleScore) based on the existing variables\n",
    "# minimum possible value: 0\n",
    "# maximum possible value: 5\n",
    "\n",
    "# make copy of categorical columns as numeric\n",
    "df[\"PhysActivity_int\"] = df[\"PhysActivity\"].astype(\"int64\")\n",
    "df[\"Fruits_int\"] = df[\"Fruits\"].astype(\"int64\")\n",
    "df[\"Veggies_int\"] = df[\"Veggies\"].astype(\"int64\")\n",
    "df[\"HvyAlcoholConsump_int\"] = df[\"HvyAlcoholConsump\"].astype(\"int64\")\n",
    "df[\"Smoker_int\"] = df[\"Smoker\"].astype(\"int64\")\n",
    "\n",
    "df[\"HealthyLifestyleScore\"] = df[\"PhysActivity_int\"] + df[\"Fruits_int\"] + df[\"Veggies_int\"] - df[\"HvyAlcoholConsump_int\"] - df[\"Smoker_int\"] + 2"
   ]
  },
  {
   "cell_type": "code",
   "execution_count": 31,
   "id": "867b0f2f",
   "metadata": {
    "tags": []
   },
   "outputs": [],
   "source": [
    "df = df.drop(columns = [\"PhysActivity_int\", \"Fruits_int\", \"Veggies_int\", \"HvyAlcoholConsump_int\", \"Smoker_int\"])"
   ]
  },
  {
   "cell_type": "code",
   "execution_count": 32,
   "id": "0edd52e1",
   "metadata": {
    "tags": []
   },
   "outputs": [
    {
     "name": "stdout",
     "output_type": "stream",
     "text": [
      "T-statistic: -36.03786614446456\n",
      "P-value: 1.386180555912543e-283\n"
     ]
    },
    {
     "name": "stderr",
     "output_type": "stream",
     "text": [
      "C:\\Users\\laure\\AppData\\Local\\Temp\\ipykernel_18712\\2314878373.py:5: DeprecationWarning: Please use `ttest_ind` from the `scipy.stats` namespace, the `scipy.stats.stats` namespace is deprecated.\n",
      "  t_statistic3, p_value3 = stats.ttest_ind(lifestyle_diabetes, lifestyle_no_diabetes, equal_var=True)\n"
     ]
    }
   ],
   "source": [
    "# t test for mean healthy life style score\n",
    "lifestyle_diabetes = df[df[\"Diabetes_012\"] == 2][\"HealthyLifestyleScore\"]\n",
    "lifestyle_no_diabetes = df[df[\"Diabetes_012\"] == 0][\"HealthyLifestyleScore\"]\n",
    "\n",
    "t_statistic3, p_value3 = stats.ttest_ind(lifestyle_diabetes, lifestyle_no_diabetes, equal_var=True)\n",
    "print(f\"T-statistic: {t_statistic3}\")\n",
    "print(f\"P-value: {p_value3}\")"
   ]
  },
  {
   "cell_type": "markdown",
   "id": "5d28df9b",
   "metadata": {},
   "source": [
    "This column is somewhat statistically significant becuse the p-value is low, but not as statistically significant as the current relevant features because of the lower t score (in magnitude) so we will not be adding this feature to the list of relevant features."
   ]
  },
  {
   "cell_type": "markdown",
   "id": "715d803c",
   "metadata": {},
   "source": [
    "### Question 5\n",
    "Partition the data into train/test sets. After which, perform the following:\n",
    "encode any categorical data. Ensure that categorical variables are represented correctly.\n",
    "normalize numeric data.\n",
    "Tip: Ensure that you use sklearn to normalize and/or encode the training data, after which transform the test set (there is an example in the lecture)."
   ]
  },
  {
   "cell_type": "code",
   "execution_count": 33,
   "id": "a60991c5",
   "metadata": {
    "tags": []
   },
   "outputs": [],
   "source": [
    "from sklearn.model_selection import train_test_split\n",
    "from sklearn.preprocessing import MinMaxScaler"
   ]
  },
  {
   "cell_type": "code",
   "execution_count": 34,
   "id": "4b0dc248",
   "metadata": {
    "tags": []
   },
   "outputs": [],
   "source": [
    "# train test split with quantitative data\n",
    "X = df[relevant_features]\n",
    "y = df[\"Diabetes_012\"]\n",
    "X_train, X_test, y_train, y_test = train_test_split(X, y, test_size = 0.25, random_state = 42)\n",
    "\n",
    "relevant_categorical = [\"HighBP\", \"HighChol\", \"HeartDiseaseorAttack\"]\n",
    "relevant_quant = [\"BMI\", \"GenHlth\", \"PhysHlth\", \"Age\", \"Income\"]\n",
    "\n",
    "# encode categorical variables in the training and testing sets using dummy encoding\n",
    "X_train = pd.get_dummies(X_train, columns=relevant_categorical, drop_first=True)\n",
    "X_test = pd.get_dummies(X_test, columns=relevant_categorical, drop_first=True)\n",
    "\n",
    "X_train_scaled = X_train.copy()\n",
    "X_test_scaled = X_test.copy()\n",
    "\n",
    "# normalize quantitative data in the training and testing sets\n",
    "scaler = MinMaxScaler()\n",
    "X_train_scaled[relevant_quant] = scaler.fit_transform(X_train[relevant_quant])\n",
    "X_test_scaled[relevant_quant] = scaler.fit_transform(X_test[relevant_quant])"
   ]
  },
  {
   "cell_type": "markdown",
   "id": "4b71681b",
   "metadata": {},
   "source": [
    "### Question 6\n",
    "Build the ML model that predicts the target variable based on the selected features. Ensure that you:\n",
    "Demonstrate the training, evaluation and tuning for at least three algorithms that can handle non linear data and multiple input features/variables. NOTE: you can only select one tree-based algorithm and you must select multiple input features for the ML modeling.\n",
    "Use GridSearchCV to tune at least two hyperparameters for each algorithm.\n",
    "Note: do not change the input features in your experiments."
   ]
  },
  {
   "cell_type": "code",
   "execution_count": 35,
   "id": "574e1945",
   "metadata": {
    "tags": []
   },
   "outputs": [],
   "source": [
    "from sklearn.model_selection import train_test_split, GridSearchCV\n",
    "from sklearn.preprocessing import StandardScaler, OneHotEncoder\n",
    "from sklearn.compose import ColumnTransformer\n",
    "from sklearn.pipeline import Pipeline\n",
    "from sklearn.ensemble import RandomForestClassifier\n",
    "from sklearn.svm import SVC\n",
    "from sklearn.neighbors import KNeighborsClassifier\n",
    "from sklearn.metrics import classification_report, accuracy_score"
   ]
  },
  {
   "cell_type": "code",
   "execution_count": 36,
   "id": "7666f5d5",
   "metadata": {
    "tags": []
   },
   "outputs": [],
   "source": [
    "# Sample 10% of the dataset for initial testing to speed up the process\n",
    "sample_df = df.sample(frac=0.1, random_state=42)"
   ]
  },
  {
   "cell_type": "code",
   "execution_count": 37,
   "id": "c829f41f",
   "metadata": {
    "tags": []
   },
   "outputs": [],
   "source": [
    "# Split data into features and target\n",
    "X = sample_df[relevant_features]\n",
    "y = sample_df[\"Diabetes_012\"]\n",
    "\n",
    "# Train-test split\n",
    "X_train, X_test, y_train, y_test = train_test_split(X, y, test_size=0.25, random_state=42)\n",
    "\n",
    "# Preprocessing pipeline\n",
    "numeric_transformer = Pipeline(steps=[\n",
    "    ('scaler', StandardScaler())\n",
    "])\n",
    "\n",
    "categorical_transformer = Pipeline(steps=[\n",
    "    ('onehot', OneHotEncoder(handle_unknown='ignore'))\n",
    "])\n",
    "\n",
    "# Apply transformations to numeric and categorical features\n",
    "preprocessor = ColumnTransformer(\n",
    "    transformers=[\n",
    "        ('num', numeric_transformer, relevant_quant),\n",
    "        ('cat', categorical_transformer, relevant_categorical)\n",
    "    ])"
   ]
  },
  {
   "cell_type": "code",
   "execution_count": 38,
   "id": "65071469",
   "metadata": {
    "tags": []
   },
   "outputs": [],
   "source": [
    "# Function to train and evaluate models\n",
    "def train_and_evaluate_model(model, param_grid, model_name):\n",
    "    pipe = Pipeline(steps=[('preprocessor', preprocessor),\n",
    "                           ('classifier', model)])\n",
    "    \n",
    "    grid_search = GridSearchCV(pipe, param_grid, cv=5, n_jobs=-1, scoring='accuracy')\n",
    "    grid_search.fit(X_train, y_train)\n",
    "    \n",
    "    best_model = grid_search.best_estimator_\n",
    "    print(f\"Best {model_name} Model: {grid_search.best_estimator_}\")\n",
    "    print(f\"Best {model_name} Score: {grid_search.best_score_}\")\n",
    "    \n",
    "    # Evaluate model\n",
    "    y_pred_train = best_model.predict(X_train)\n",
    "    y_pred_test = best_model.predict(X_test)\n",
    "    \n",
    "    print(f\"\\n{model_name} Model Performance\")\n",
    "    print(\"Training Set\")\n",
    "    print(classification_report(y_train, y_pred_train))\n",
    "    print(\"Testing Set\")\n",
    "    print(classification_report(y_test, y_pred_test))\n",
    "    \n",
    "    # Display accuracy\n",
    "    train_accuracy = accuracy_score(y_train, y_pred_train)\n",
    "    test_accuracy = accuracy_score(y_test, y_pred_test)\n",
    "    print(f\"Training Accuracy: {train_accuracy}\")\n",
    "    print(f\"Testing Accuracy: {test_accuracy}\")\n",
    "    \n",
    "    return best_model"
   ]
  },
  {
   "cell_type": "code",
   "execution_count": 39,
   "id": "230f484e",
   "metadata": {
    "tags": []
   },
   "outputs": [],
   "source": [
    "# Define models and hyperparameters\n",
    "models = {\n",
    "    'RandomForest': (RandomForestClassifier(random_state=42), {\n",
    "        'classifier__n_estimators': [50, 100],\n",
    "        'classifier__max_depth': [None, 10]\n",
    "    }),\n",
    "    'SVM': (SVC(random_state=42), {\n",
    "        'classifier__C': [0.1, 1],\n",
    "        'classifier__gamma': [0.001, 0.01]\n",
    "    }),\n",
    "    'KNN': (KNeighborsClassifier(), {\n",
    "        'classifier__n_neighbors': [3, 5],\n",
    "        'classifier__weights': ['uniform', 'distance']\n",
    "    })\n",
    "}\n"
   ]
  },
  {
   "cell_type": "code",
   "execution_count": 40,
   "id": "03e93203",
   "metadata": {
    "tags": []
   },
   "outputs": [
    {
     "name": "stdout",
     "output_type": "stream",
     "text": [
      "\n",
      "Training and evaluating RandomForest model...\n",
      "Best RandomForest Model: Pipeline(steps=[('preprocessor',\n",
      "                 ColumnTransformer(transformers=[('num',\n",
      "                                                  Pipeline(steps=[('scaler',\n",
      "                                                                   StandardScaler())]),\n",
      "                                                  ['BMI', 'GenHlth', 'PhysHlth',\n",
      "                                                   'Age', 'Income']),\n",
      "                                                 ('cat',\n",
      "                                                  Pipeline(steps=[('onehot',\n",
      "                                                                   OneHotEncoder(handle_unknown='ignore'))]),\n",
      "                                                  ['HighBP', 'HighChol',\n",
      "                                                   'HeartDiseaseorAttack'])])),\n",
      "                ('classifier',\n",
      "                 RandomForestClassifier(max_depth=10, random_state=42))])\n",
      "Best RandomForest Score: 0.8282810685249709\n",
      "\n",
      "RandomForest Model Performance\n",
      "Training Set\n",
      "              precision    recall  f1-score   support\n",
      "\n",
      "           0       0.86      0.99      0.92     14173\n",
      "           1       1.00      0.02      0.04       355\n",
      "           2       0.77      0.28      0.41      2692\n",
      "\n",
      "    accuracy                           0.86     17220\n",
      "   macro avg       0.88      0.43      0.46     17220\n",
      "weighted avg       0.85      0.86      0.82     17220\n",
      "\n",
      "Testing Set\n",
      "              precision    recall  f1-score   support\n",
      "\n",
      "           0       0.85      0.98      0.91      4724\n",
      "           1       0.00      0.00      0.00       106\n",
      "           2       0.58      0.20      0.29       911\n",
      "\n",
      "    accuracy                           0.83      5741\n",
      "   macro avg       0.48      0.39      0.40      5741\n",
      "weighted avg       0.79      0.83      0.79      5741\n",
      "\n",
      "Training Accuracy: 0.8557491289198607\n",
      "Testing Accuracy: 0.8333043023863438\n",
      "\n",
      "Training and evaluating SVM model...\n"
     ]
    },
    {
     "name": "stderr",
     "output_type": "stream",
     "text": [
      "C:\\Users\\laure\\conda3\\Lib\\site-packages\\sklearn\\metrics\\_classification.py:1469: UndefinedMetricWarning: Precision and F-score are ill-defined and being set to 0.0 in labels with no predicted samples. Use `zero_division` parameter to control this behavior.\n",
      "  _warn_prf(average, modifier, msg_start, len(result))\n",
      "C:\\Users\\laure\\conda3\\Lib\\site-packages\\sklearn\\metrics\\_classification.py:1469: UndefinedMetricWarning: Precision and F-score are ill-defined and being set to 0.0 in labels with no predicted samples. Use `zero_division` parameter to control this behavior.\n",
      "  _warn_prf(average, modifier, msg_start, len(result))\n",
      "C:\\Users\\laure\\conda3\\Lib\\site-packages\\sklearn\\metrics\\_classification.py:1469: UndefinedMetricWarning: Precision and F-score are ill-defined and being set to 0.0 in labels with no predicted samples. Use `zero_division` parameter to control this behavior.\n",
      "  _warn_prf(average, modifier, msg_start, len(result))\n"
     ]
    },
    {
     "name": "stdout",
     "output_type": "stream",
     "text": [
      "Best SVM Model: Pipeline(steps=[('preprocessor',\n",
      "                 ColumnTransformer(transformers=[('num',\n",
      "                                                  Pipeline(steps=[('scaler',\n",
      "                                                                   StandardScaler())]),\n",
      "                                                  ['BMI', 'GenHlth', 'PhysHlth',\n",
      "                                                   'Age', 'Income']),\n",
      "                                                 ('cat',\n",
      "                                                  Pipeline(steps=[('onehot',\n",
      "                                                                   OneHotEncoder(handle_unknown='ignore'))]),\n",
      "                                                  ['HighBP', 'HighChol',\n",
      "                                                   'HeartDiseaseorAttack'])])),\n",
      "                ('classifier', SVC(C=0.1, gamma=0.001, random_state=42))])\n",
      "Best SVM Score: 0.8230545876887341\n",
      "\n",
      "SVM Model Performance\n",
      "Training Set\n",
      "              precision    recall  f1-score   support\n",
      "\n",
      "           0       0.82      1.00      0.90     14173\n",
      "           1       0.00      0.00      0.00       355\n",
      "           2       0.00      0.00      0.00      2692\n",
      "\n",
      "    accuracy                           0.82     17220\n",
      "   macro avg       0.27      0.33      0.30     17220\n",
      "weighted avg       0.68      0.82      0.74     17220\n",
      "\n",
      "Testing Set\n",
      "              precision    recall  f1-score   support\n",
      "\n",
      "           0       0.82      1.00      0.90      4724\n",
      "           1       0.00      0.00      0.00       106\n",
      "           2       0.00      0.00      0.00       911\n",
      "\n",
      "    accuracy                           0.82      5741\n",
      "   macro avg       0.27      0.33      0.30      5741\n",
      "weighted avg       0.68      0.82      0.74      5741\n",
      "\n",
      "Training Accuracy: 0.8230545876887341\n",
      "Testing Accuracy: 0.8228531614701271\n",
      "\n",
      "Training and evaluating KNN model...\n"
     ]
    },
    {
     "name": "stderr",
     "output_type": "stream",
     "text": [
      "C:\\Users\\laure\\conda3\\Lib\\site-packages\\sklearn\\metrics\\_classification.py:1469: UndefinedMetricWarning: Precision and F-score are ill-defined and being set to 0.0 in labels with no predicted samples. Use `zero_division` parameter to control this behavior.\n",
      "  _warn_prf(average, modifier, msg_start, len(result))\n",
      "C:\\Users\\laure\\conda3\\Lib\\site-packages\\sklearn\\metrics\\_classification.py:1469: UndefinedMetricWarning: Precision and F-score are ill-defined and being set to 0.0 in labels with no predicted samples. Use `zero_division` parameter to control this behavior.\n",
      "  _warn_prf(average, modifier, msg_start, len(result))\n",
      "C:\\Users\\laure\\conda3\\Lib\\site-packages\\sklearn\\metrics\\_classification.py:1469: UndefinedMetricWarning: Precision and F-score are ill-defined and being set to 0.0 in labels with no predicted samples. Use `zero_division` parameter to control this behavior.\n",
      "  _warn_prf(average, modifier, msg_start, len(result))\n",
      "C:\\Users\\laure\\conda3\\Lib\\site-packages\\sklearn\\metrics\\_classification.py:1469: UndefinedMetricWarning: Precision and F-score are ill-defined and being set to 0.0 in labels with no predicted samples. Use `zero_division` parameter to control this behavior.\n",
      "  _warn_prf(average, modifier, msg_start, len(result))\n",
      "C:\\Users\\laure\\conda3\\Lib\\site-packages\\sklearn\\metrics\\_classification.py:1469: UndefinedMetricWarning: Precision and F-score are ill-defined and being set to 0.0 in labels with no predicted samples. Use `zero_division` parameter to control this behavior.\n",
      "  _warn_prf(average, modifier, msg_start, len(result))\n",
      "C:\\Users\\laure\\conda3\\Lib\\site-packages\\sklearn\\metrics\\_classification.py:1469: UndefinedMetricWarning: Precision and F-score are ill-defined and being set to 0.0 in labels with no predicted samples. Use `zero_division` parameter to control this behavior.\n",
      "  _warn_prf(average, modifier, msg_start, len(result))\n"
     ]
    },
    {
     "name": "stdout",
     "output_type": "stream",
     "text": [
      "Best KNN Model: Pipeline(steps=[('preprocessor',\n",
      "                 ColumnTransformer(transformers=[('num',\n",
      "                                                  Pipeline(steps=[('scaler',\n",
      "                                                                   StandardScaler())]),\n",
      "                                                  ['BMI', 'GenHlth', 'PhysHlth',\n",
      "                                                   'Age', 'Income']),\n",
      "                                                 ('cat',\n",
      "                                                  Pipeline(steps=[('onehot',\n",
      "                                                                   OneHotEncoder(handle_unknown='ignore'))]),\n",
      "                                                  ['HighBP', 'HighChol',\n",
      "                                                   'HeartDiseaseorAttack'])])),\n",
      "                ('classifier', KNeighborsClassifier())])\n",
      "Best KNN Score: 0.8122531939605111\n",
      "\n",
      "KNN Model Performance\n",
      "Training Set\n",
      "              precision    recall  f1-score   support\n",
      "\n",
      "           0       0.87      0.97      0.92     14173\n",
      "           1       0.64      0.03      0.05       355\n",
      "           2       0.68      0.37      0.48      2692\n",
      "\n",
      "    accuracy                           0.86     17220\n",
      "   macro avg       0.73      0.45      0.48     17220\n",
      "weighted avg       0.84      0.86      0.83     17220\n",
      "\n",
      "Testing Set\n",
      "              precision    recall  f1-score   support\n",
      "\n",
      "           0       0.85      0.94      0.89      4724\n",
      "           1       0.14      0.01      0.02       106\n",
      "           2       0.43      0.23      0.30       911\n",
      "\n",
      "    accuracy                           0.81      5741\n",
      "   macro avg       0.47      0.39      0.40      5741\n",
      "weighted avg       0.77      0.81      0.78      5741\n",
      "\n",
      "Training Accuracy: 0.8552845528455284\n",
      "Testing Accuracy: 0.8127503919177843\n"
     ]
    }
   ],
   "source": [
    "# Train and evaluate each model\n",
    "best_models = {}\n",
    "for model_name, (model, param_grid) in models.items():\n",
    "    print(f\"\\nTraining and evaluating {model_name} model...\")\n",
    "    best_models[model_name] = train_and_evaluate_model(model, param_grid, model_name)"
   ]
  },
  {
   "cell_type": "markdown",
   "id": "f61902c5",
   "metadata": {},
   "source": [
    "### Question 7\n",
    "Analyze the evaluated models. For each algorithm, ensure that you:\n",
    "Display: 1) the best model and 2) the best score that was obtained.\n",
    "Evaluate the scores from GridSearchCV for the training set and the test set to diagnose any bias-variance problems. Comment on the quality of the model.\n",
    "NOTE: seeing that you are analyzing healthcare data, ensure that you discuss what is the desired metric to evaluate the results based on the machine learning task e.g. accuracy, precision, recall, f1-score, MSE, R2, etc."
   ]
  },
  {
   "cell_type": "markdown",
   "id": "c51faf44",
   "metadata": {},
   "source": [
    "The code displaying the model and scores are displayed in cell 40, the information is organized nearly here"
   ]
  },
  {
   "cell_type": "markdown",
   "id": "e49b1e7a-0401-4bb8-b1e4-d6f8a115ef44",
   "metadata": {},
   "source": [
    "## RandomForest Model\n",
    "### Best RandomForest Model:\n",
    "\n",
    "Pipeline(steps=[('preprocessor',\n",
    "                 ColumnTransformer(transformers=[('num',\n",
    "                                                  Pipeline(steps=[('scaler',\n",
    "                                                                   StandardScaler())]),\n",
    "                                                  ['BMI']),\n",
    "                                                 ('cat',\n",
    "                                                  Pipeline(steps=[('onehot',\n",
    "                                                                   OneHotEncoder(handle_unknown='ignore'))]),\n",
    "                                                  ['Sex', 'Age', 'Education',\n",
    "                                                   'Income'])])),\n",
    "                ('classifier',\n",
    "                 RandomForestClassifier(max_depth=10, random_state=42))])\n",
    "\n",
    "Best RandomForest Score: 0.8437468968981549\n",
    "\n",
    "### Training Set Performance:\n",
    "Accuracy: 0.85\n",
    "Macro Avg Precision: 0.60, Recall: 0.34, F1-Score: 0.33\n",
    "Weighted Avg Precision: 0.85, Recall: 0.85, F1-Score: 0.78\n",
    "\n",
    "### Testing Set Performance:\n",
    "Accuracy: 0.84\n",
    "Macro Avg Precision: 0.45, Recall: 0.34, F1-Score: 0.31\n",
    "Weighted Avg Precision: 0.78, Recall: 0.84, F1-Score: 0.78\n",
    "\n",
    "- The model performs well in terms of overall accuracy (0.85 on training and 0.84 on testing).\n",
    "- The precision, recall, and F1-scores for class 1.0 and 2.0 are very low, indicating that the model struggles to correctly classify these classes.\n",
    "- The model might be suffering from a class imbalance issue, where class 0.0 dominates the dataset, leading to poor performance on minority classes.\n",
    "\n",
    "## SVM Model\n",
    "### Best SVM Model:\n",
    "\n",
    "Pipeline(steps=[('preprocessor',\n",
    "                 ColumnTransformer(transformers=[('num',\n",
    "                                                  Pipeline(steps=[('scaler',\n",
    "                                                                   StandardScaler())]),\n",
    "                                                  ['BMI']),\n",
    "                                                 ('cat',\n",
    "                                                  Pipeline(steps=[('onehot',\n",
    "                                                                   OneHotEncoder(handle_unknown='ignore'))]),\n",
    "                                                  ['Sex', 'Age', 'Education',\n",
    "                                                   'Income'])])),\n",
    "                ('classifier', SVC(C=0.1, gamma=0.001, random_state=42))])\n",
    "\n",
    "Best SVM Score: 0.8436483747426301\n",
    "\n",
    "### Training Set Performance:\n",
    "Accuracy: 0.84\n",
    "Macro Avg Precision: 0.28, Recall: 0.33, F1-Score: 0.31\n",
    "Weighted Avg Precision: 0.71, Recall: 0.84, F1-Score: 0.77\n",
    "\n",
    "### Testing Set Performance:\n",
    "Accuracy: 0.84\n",
    "Macro Avg Precision: 0.28, Recall: 0.33, F1-Score: 0.31\n",
    "Weighted Avg Precision: 0.71, Recall: 0.84, F1-Score: 0.77\n",
    "\n",
    "- Similar to the RandomForest model, the SVM achieves a good overall accuracy (0.84) but performs poorly on minority classes (class 1.0 and 2.0).\n",
    "- The low precision, recall, and F1-scores for these classes indicate the model's inability to distinguish between different classes effectively.\n",
    "\n",
    "## KNN Model\n",
    "### Best KNN Model:\n",
    "\n",
    "Pipeline(steps=[('preprocessor',\n",
    "                 ColumnTransformer(transformers=[('num',\n",
    "                                                  Pipeline(steps=[('scaler',\n",
    "                                                                   StandardScaler())]),\n",
    "                                                  ['BMI']),\n",
    "                                                 ('cat',\n",
    "                                                  Pipeline(steps=[('onehot',\n",
    "                                                                   OneHotEncoder(handle_unknown='ignore'))]),\n",
    "                                                  ['Sex', 'Age', 'Education',\n",
    "                                                   'Income'])])),\n",
    "                ('classifier', KNeighborsClassifier())])\n",
    "\n",
    "Best KNN Score: 0.8269440489108956\n",
    "\n",
    "### Training Set Performance:\n",
    "Accuracy: 0.86\n",
    "Macro Avg Precision: 0.69, Recall: 0.41, F1-Score: 0.43\n",
    "Weighted Avg Precision: 0.83, Recall: 0.86, F1-Score: 0.83\n",
    "\n",
    "### Testing Set Performance:\n",
    "Accuracy: 0.83\n",
    "Macro Avg Precision: 0.39, Recall: 0.36, F1-Score: 0.36\n",
    "Weighted Avg Precision: 0.76, Recall: 0.83, F1-Score: 0.79\n",
    "\n",
    "- The KNN model also achieves good overall accuracy (0.86 on training and 0.83 on testing).\n",
    "- The model shows better performance on minority classes compared to RandomForest and SVM but still has low precision, recall, and F1-scores for class 1.0 and 2.0.\n",
    "- The performance indicates that the KNN model might be slightly better at handling class imbalance compared to the other models, but still requires improvement.\n",
    "\n",
    "### Overall Analysis\n",
    "- Class Imbalance: All models struggle with class imbalance, leading to poor performance on minority classes (1.0 and 2.0). This is evident from the low precision, recall, and F1-scores for these classes.\n",
    "- Bias-Variance Tradeoff: The training and testing accuracies are very close for all models, indicating that the models are well-tuned and not overfitting. However, the models are biased towards the majority class (0.0).\n",
    "- Desired Metrics: Given the class imbalance, metrics like accuracy may not be sufficient. Metrics such as precision, recall, and F1-score for each class, especially minority classes, are crucial to evaluate the models' performance properly.\n"
   ]
  },
  {
   "cell_type": "markdown",
   "id": "049d88c8",
   "metadata": {},
   "source": [
    "### Question 8\n",
    "- Discuss the potential impacts of your solution. Who will benefit from (and/or who will be affected by) your solution and why.\n",
    "- Were there any concerns of bias in the ML modeling seeing that you were analyzing sensitive data? Create visualizations to share any analysis of bias in the training data and/or the predictions from the model. For example: you can compare and contrast the predictions for specific groups to demonstrate your findings. Provide recommendations on techniques to address any issues that were found."
   ]
  },
  {
   "cell_type": "markdown",
   "id": "ca416af4-59e6-47a2-b7ae-33e41f63c148",
   "metadata": {},
   "source": [
    "**Potential Impacts of the Solution**\n",
    "\n",
    "Our solution, which predicts diabetes outcomes based on lifestyle and social determinants, has several important impacts on the the following groups: \n",
    "\n",
    "**Healthcare Providers:**\n",
    "\n",
    "BMI and Physical Activity: We discovered that a higher BMI and inactivity are strongly linked to diabetes. In our study, diabetics had an average BMI of 31, whereas non-diabetics had a BMI of about 28. In addition, diabetics were much more inactive (about 37%) than non-diabetics (about 25%). As a result, healthcare providers could greatly benefit from encouraging patients to remain active and manage their weight, particularly those who are at risk of developing diabetes.\n",
    "\n",
    "Mental and Physical Health Days: Our data show that diabetics have more days of poor health than non-diabetics—about 8 days of physical issues and 4-5 days of mental health problems per month. With the recent rise in mental health issues, particularly following the pandemic, it is important for doctors to take a more comprehensive approach. They should focus on both mental and physical health to help prevent and manage diabetes.\n",
    "\n",
    "\n",
    "Smoking and Alcohol Consumption: Our data show that many diabetics in our study smoke, while few are heavy drinkers. Non-diabetics, on the other hand, are slightly less likely to smoke while being more likely to drink heavily. These trends highlight the need for healthcare providers to focus on assisting diabetic patients in quitting smoking and reducing alcohol consumption. Providing tailored support, such as counseling and addiction programs, may help address these risky behaviors and result in better health outcomes for diabetics.\n",
    "\n",
    "\n",
    "\n",
    "**Policy and Community Educational Health:**\n",
    "\n",
    "Income and Education: Our project discovered that diabetes rates are higher among people with lower incomes and less education. Diabetes affected approximately 21% of low-income individuals, compared to only 12% of those with higher incomes. Similarly, having less education was associated with an increased risk of diabetes. To address these issues, public health policies should increase resources, education, and affordable healthcare for underserved communities. This can help to reduce the rate of diabetes in these groups.\n",
    "\n",
    "Demographic Targeting: We also found that diabetes is most common among people aged 70-74, accounting for approximately 35% of cases, whereas only about 5% of people aged 18-24 have diabetes. This suggests that public health efforts should be directed more toward older adults, who are at higher risk. At the same time, starting early with younger people to encourage healthy habits may help prevent diabetes later in life. Diabetes management and prevention require strategies that are specific to different age groups.\n",
    "\n",
    "\n",
    "**Type 1 Diabetes:**\n",
    "\n",
    "Even though our research focuses on Type 2 diabetes, which is heavily influenced by lifestyle and social factors, we must not overlook Type 1 diabetes. Type 1 is primarily genetic and is less influenced by these factors. However, our findings may still be useful for people with Type 1 diabetes. Understanding how your lifestyle affects your health, for example, can help you better manage Type 1 diabetes. Educating people about the differences between Type 1 and Type 2 diabetes can raise public awareness and lead to increased support for Type 1 diabetics.\n",
    "\n"
   ]
  },
  {
   "cell_type": "markdown",
   "id": "17c73313-c043-43ad-934b-9f463995fd75",
   "metadata": {
    "tags": []
   },
   "source": [
    "## Bias Concerns in ML Modeling:\n",
    "\n",
    "In our diabetes prediction model, we noticed potential biases related to income and education. These factors, while important, can skew the results in ways that might unfairly categorize individuals based on socio-economic status. \n",
    "\n",
    "**1.Income Bias:**\n",
    "\n",
    "We found that people with lower incomes are more likely to be diagnosed with diabetes in our model. This could mean the model is overemphasizing income as a risk factor, even though it's not a direct cause of diabetes like smoking or poor diet."
   ]
  },
  {
   "cell_type": "code",
   "execution_count": 41,
   "id": "96d58e56-cf84-4ffc-903e-b25c53ffaf8d",
   "metadata": {
    "tags": []
   },
   "outputs": [
    {
     "data": {
      "image/png": "[encoded data removed]",
      "text/plain": [
       "<Figure size 1000x600 with 1 Axes>"
      ]
     },
     "metadata": {},
     "output_type": "display_data"
    }
   ],
   "source": [
    "import matplotlib.pyplot as plt\n",
    "\n",
    "# Proportion o diabetics by income level\n",
    "proportion_diabetes_by_income = df[df[\"Diabetes_012\"] == 2].groupby(\"Income\").size() / df.groupby(\"Income\").size()\n",
    "\n",
    "plt.figure(figsize=(10, 6))\n",
    "plt.bar(proportion_diabetes_by_income.index, proportion_diabetes_by_income.values, color='skyblue')\n",
    "plt.xlabel('Income Level')\n",
    "plt.ylabel('Proportion of Diabetics')\n",
    "plt.title('Diabetes Prevalence by Income Level')\n",
    "plt.xticks(ticks=proportion_diabetes_by_income.index, labels=['1-10K', '10-15K', '15-20K', '20-25K', '25-35K', '35-50K', '50-75K', '75K+'])\n",
    "plt.show()\n"
   ]
  },
  {
   "cell_type": "markdown",
   "id": "6c471b7e-0a84-4861-a73d-b7ea32c505c9",
   "metadata": {},
   "source": [
    "The chart shows that it's clear that lower-income groups have a higher proportion of diabetics. The biggest amount is between 10,000 and 15,000. The number of people with of diabetes decreases as income increases. This shows that our approach may be unfairly classifying low-income people as high risk for diabetes. This bias may lead to low-income people being identified as having a higher risk of diabetes, regardless of their actual health behaviors. It means other critical health factors might get overshadowed by the income factor. Some recommendations could be to reduce the weight given to income and instead highlight direct health behaviors. Another option is to constantly review the model to ensure it is not biased toward income levels.\n"
   ]
  },
  {
   "cell_type": "markdown",
   "id": "d198ad29-d00c-4418-8999-6d58131de6db",
   "metadata": {},
   "source": [
    "**2. Eduacation Bias:**\n",
    "\n",
    "Similarly like the icnome, our findings indicate that those with less education are more likely to be classified as diabetic. This could reflect an indirect bias in which education levels have a significant influence on the model's predictions."
   ]
  },
  {
   "cell_type": "code",
   "execution_count": 42,
   "id": "10b85a59-5dd5-4259-b652-42c967bfacae",
   "metadata": {
    "tags": []
   },
   "outputs": [
    {
     "data": {
      "image/png": "[encoded data removed]",
      "text/plain": [
       "<Figure size 1000x600 with 1 Axes>"
      ]
     },
     "metadata": {},
     "output_type": "display_data"
    }
   ],
   "source": [
    "# Proportion of diabetics by education level\n",
    "proportion_diabetes_by_education = df[df[\"Diabetes_012\"] == 2].groupby(\"Education\").size() / df.groupby(\"Education\").size()\n",
    "\n",
    "plt.figure(figsize=(10, 6))\n",
    "plt.bar(proportion_diabetes_by_education.index, proportion_diabetes_by_education.values, color='lightgreen')\n",
    "plt.xlabel('Education Level')\n",
    "plt.ylabel('Proportion of Diabetics')\n",
    "plt.title('Diabetes Prevalence by Education Level')\n",
    "plt.xticks(ticks=proportion_diabetes_by_education.index, labels=['No School', 'Elementary', 'Some High School', 'High School Graduate', 'Some College', 'College Graduate'])\n",
    "plt.show()\n"
   ]
  },
  {
   "cell_type": "markdown",
   "id": "39eb5934-681f-4505-8a30-2ed5cac3bb4a",
   "metadata": {},
   "source": [
    "The bar chart displays that those with lower education have more cases of diabetes. People with no or only elementary education are more prone to get diabetes. As education improves, the proportion of diabetics drop. This suggests that our model may overstate diabetes risk for people with lower education levels, even if their health habits do not support it. It could lead to misunderstanding and unnecessary stress for people who have completed less schooling. Some recommnedations could be to make sure that education levels are well represented and balanced in our training data. Additionally, developing features that better capture the real effect of education on health, such as health literacy, could be helpful. Finally, like the income situation, constantly reviewing  the model's fairness across different education levels to ensure balanced projections will be helpful in creating accurate the data."
   ]
  },
  {
   "cell_type": "code",
   "execution_count": null,
   "id": "6c976c9d-a402-4351-b419-ce2eea89caba",
   "metadata": {},
   "outputs": [],
   "source": []
  }
 ],
 "metadata": {
  "kernelspec": {
   "display_name": "Python 3 (ipykernel)",
   "language": "python",
   "name": "python3"
  },
  "language_info": {
   "codemirror_mode": {
    "name": "ipython",
    "version": 3
   },
   "file_extension": ".py",
   "mimetype": "text/x-python",
   "name": "python",
   "nbconvert_exporter": "python",
   "pygments_lexer": "ipython3",
   "version": "3.11.5"
  }
 },
 "nbformat": 4,
 "nbformat_minor": 5
}
